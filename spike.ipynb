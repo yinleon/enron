{
 "cells": [
  {
   "cell_type": "code",
   "execution_count": 1,
   "metadata": {
    "collapsed": true
   },
   "outputs": [],
   "source": [
    "mkdir data"
   ]
  },
  {
   "cell_type": "code",
   "execution_count": 1,
   "metadata": {
    "collapsed": true,
    "deletable": true,
    "editable": true
   },
   "outputs": [],
   "source": [
    "import os, sys, email\n",
    "import numpy as np \n",
    "import pandas as pd\n",
    "import random\n",
    "\n",
    "# Plotting\n",
    "import matplotlib.pyplot as plt\n",
    "%matplotlib inline"
   ]
  },
  {
   "cell_type": "code",
   "execution_count": 6,
   "metadata": {
    "collapsed": true,
    "deletable": true,
    "editable": true
   },
   "outputs": [],
   "source": [
    "# mv /Users/leonyin/Downloads/emails.csv data/"
   ]
  },
  {
   "cell_type": "code",
   "execution_count": 2,
   "metadata": {
    "collapsed": true,
    "deletable": true,
    "editable": true
   },
   "outputs": [],
   "source": [
    "emails_df = pd.read_csv('data/emails.csv')"
   ]
  },
  {
   "cell_type": "code",
   "execution_count": 3,
   "metadata": {
    "collapsed": true,
    "deletable": true,
    "editable": true
   },
   "outputs": [],
   "source": [
    "def get_text_from_email(msg):\n",
    "    '''To get the content from email objects'''\n",
    "    parts = []\n",
    "    for part in msg.walk():\n",
    "        if part.get_content_type() == 'text/plain':\n",
    "            parts.append( part.get_payload() )\n",
    "    return ''.join(parts)\n",
    "\n",
    "def split_email_addresses(line):\n",
    "    '''To separate multiple email addresses'''\n",
    "    if line:\n",
    "        addrs = line.split(',')\n",
    "        addrs = frozenset(map(lambda x: x.strip(), addrs))\n",
    "    else:\n",
    "        addrs = None\n",
    "    return addrs"
   ]
  },
  {
   "cell_type": "code",
   "execution_count": 4,
   "metadata": {
    "collapsed": false,
    "deletable": true,
    "editable": true,
    "scrolled": true
   },
   "outputs": [
    {
     "ename": "KeyboardInterrupt",
     "evalue": "",
     "output_type": "error",
     "traceback": [
      "\u001b[0;31m---------------------------------------------------------------------------\u001b[0m",
      "\u001b[0;31mKeyboardInterrupt\u001b[0m                         Traceback (most recent call last)",
      "\u001b[0;32m<ipython-input-4-9d0e8c24f77d>\u001b[0m in \u001b[0;36m<module>\u001b[0;34m()\u001b[0m\n\u001b[1;32m      1\u001b[0m \u001b[0;31m# Parse the emails into a list email objects\u001b[0m\u001b[0;34m\u001b[0m\u001b[0;34m\u001b[0m\u001b[0m\n\u001b[0;32m----> 2\u001b[0;31m \u001b[0mmessages\u001b[0m \u001b[0;34m=\u001b[0m \u001b[0mlist\u001b[0m\u001b[0;34m(\u001b[0m\u001b[0mmap\u001b[0m\u001b[0;34m(\u001b[0m\u001b[0memail\u001b[0m\u001b[0;34m.\u001b[0m\u001b[0mmessage_from_string\u001b[0m\u001b[0;34m,\u001b[0m \u001b[0memails_df\u001b[0m\u001b[0;34m[\u001b[0m\u001b[0;34m'message'\u001b[0m\u001b[0;34m]\u001b[0m\u001b[0;34m)\u001b[0m\u001b[0;34m)\u001b[0m\u001b[0;34m\u001b[0m\u001b[0m\n\u001b[0m\u001b[1;32m      3\u001b[0m \u001b[0memails_df\u001b[0m\u001b[0;34m.\u001b[0m\u001b[0mdrop\u001b[0m\u001b[0;34m(\u001b[0m\u001b[0;34m'message'\u001b[0m\u001b[0;34m,\u001b[0m \u001b[0maxis\u001b[0m\u001b[0;34m=\u001b[0m\u001b[0;36m1\u001b[0m\u001b[0;34m,\u001b[0m \u001b[0minplace\u001b[0m\u001b[0;34m=\u001b[0m\u001b[0mTrue\u001b[0m\u001b[0;34m)\u001b[0m\u001b[0;34m\u001b[0m\u001b[0m\n\u001b[1;32m      4\u001b[0m \u001b[0;31m# Get fields from parsed email objects\u001b[0m\u001b[0;34m\u001b[0m\u001b[0;34m\u001b[0m\u001b[0m\n\u001b[1;32m      5\u001b[0m \u001b[0mkeys\u001b[0m \u001b[0;34m=\u001b[0m \u001b[0mmessages\u001b[0m\u001b[0;34m[\u001b[0m\u001b[0;36m0\u001b[0m\u001b[0;34m]\u001b[0m\u001b[0;34m.\u001b[0m\u001b[0mkeys\u001b[0m\u001b[0;34m(\u001b[0m\u001b[0;34m)\u001b[0m\u001b[0;34m\u001b[0m\u001b[0m\n",
      "\u001b[0;32m/usr/local/Cellar/python/2.7.13/Frameworks/Python.framework/Versions/2.7/lib/python2.7/email/__init__.pyc\u001b[0m in \u001b[0;36mmessage_from_string\u001b[0;34m(s, *args, **kws)\u001b[0m\n\u001b[1;32m     55\u001b[0m     \"\"\"\n\u001b[1;32m     56\u001b[0m     \u001b[0;32mfrom\u001b[0m \u001b[0memail\u001b[0m\u001b[0;34m.\u001b[0m\u001b[0mparser\u001b[0m \u001b[0;32mimport\u001b[0m \u001b[0mParser\u001b[0m\u001b[0;34m\u001b[0m\u001b[0m\n\u001b[0;32m---> 57\u001b[0;31m     \u001b[0;32mreturn\u001b[0m \u001b[0mParser\u001b[0m\u001b[0;34m(\u001b[0m\u001b[0;34m*\u001b[0m\u001b[0margs\u001b[0m\u001b[0;34m,\u001b[0m \u001b[0;34m**\u001b[0m\u001b[0mkws\u001b[0m\u001b[0;34m)\u001b[0m\u001b[0;34m.\u001b[0m\u001b[0mparsestr\u001b[0m\u001b[0;34m(\u001b[0m\u001b[0ms\u001b[0m\u001b[0;34m)\u001b[0m\u001b[0;34m\u001b[0m\u001b[0m\n\u001b[0m\u001b[1;32m     58\u001b[0m \u001b[0;34m\u001b[0m\u001b[0m\n\u001b[1;32m     59\u001b[0m \u001b[0;34m\u001b[0m\u001b[0m\n",
      "\u001b[0;32m/usr/local/Cellar/python/2.7.13/Frameworks/Python.framework/Versions/2.7/lib/python2.7/email/parser.pyc\u001b[0m in \u001b[0;36mparsestr\u001b[0;34m(self, text, headersonly)\u001b[0m\n\u001b[1;32m     80\u001b[0m         \u001b[0mthe\u001b[0m \u001b[0mfile\u001b[0m\u001b[0;34m.\u001b[0m\u001b[0;34m\u001b[0m\u001b[0m\n\u001b[1;32m     81\u001b[0m         \"\"\"\n\u001b[0;32m---> 82\u001b[0;31m         \u001b[0;32mreturn\u001b[0m \u001b[0mself\u001b[0m\u001b[0;34m.\u001b[0m\u001b[0mparse\u001b[0m\u001b[0;34m(\u001b[0m\u001b[0mStringIO\u001b[0m\u001b[0;34m(\u001b[0m\u001b[0mtext\u001b[0m\u001b[0;34m)\u001b[0m\u001b[0;34m,\u001b[0m \u001b[0mheadersonly\u001b[0m\u001b[0;34m=\u001b[0m\u001b[0mheadersonly\u001b[0m\u001b[0;34m)\u001b[0m\u001b[0;34m\u001b[0m\u001b[0m\n\u001b[0m\u001b[1;32m     83\u001b[0m \u001b[0;34m\u001b[0m\u001b[0m\n\u001b[1;32m     84\u001b[0m \u001b[0;34m\u001b[0m\u001b[0m\n",
      "\u001b[0;32m/usr/local/Cellar/python/2.7.13/Frameworks/Python.framework/Versions/2.7/lib/python2.7/email/parser.pyc\u001b[0m in \u001b[0;36mparse\u001b[0;34m(self, fp, headersonly)\u001b[0m\n\u001b[1;32m     69\u001b[0m             \u001b[0;32mif\u001b[0m \u001b[0;32mnot\u001b[0m \u001b[0mdata\u001b[0m\u001b[0;34m:\u001b[0m\u001b[0;34m\u001b[0m\u001b[0m\n\u001b[1;32m     70\u001b[0m                 \u001b[0;32mbreak\u001b[0m\u001b[0;34m\u001b[0m\u001b[0m\n\u001b[0;32m---> 71\u001b[0;31m             \u001b[0mfeedparser\u001b[0m\u001b[0;34m.\u001b[0m\u001b[0mfeed\u001b[0m\u001b[0;34m(\u001b[0m\u001b[0mdata\u001b[0m\u001b[0;34m)\u001b[0m\u001b[0;34m\u001b[0m\u001b[0m\n\u001b[0m\u001b[1;32m     72\u001b[0m         \u001b[0;32mreturn\u001b[0m \u001b[0mfeedparser\u001b[0m\u001b[0;34m.\u001b[0m\u001b[0mclose\u001b[0m\u001b[0;34m(\u001b[0m\u001b[0;34m)\u001b[0m\u001b[0;34m\u001b[0m\u001b[0m\n\u001b[1;32m     73\u001b[0m \u001b[0;34m\u001b[0m\u001b[0m\n",
      "\u001b[0;32m/usr/local/Cellar/python/2.7.13/Frameworks/Python.framework/Versions/2.7/lib/python2.7/email/feedparser.pyc\u001b[0m in \u001b[0;36mfeed\u001b[0;34m(self, data)\u001b[0m\n\u001b[1;32m    175\u001b[0m     \u001b[0;32mdef\u001b[0m \u001b[0mfeed\u001b[0m\u001b[0;34m(\u001b[0m\u001b[0mself\u001b[0m\u001b[0;34m,\u001b[0m \u001b[0mdata\u001b[0m\u001b[0;34m)\u001b[0m\u001b[0;34m:\u001b[0m\u001b[0;34m\u001b[0m\u001b[0m\n\u001b[1;32m    176\u001b[0m         \u001b[0;34m\"\"\"Push more data into the parser.\"\"\"\u001b[0m\u001b[0;34m\u001b[0m\u001b[0m\n\u001b[0;32m--> 177\u001b[0;31m         \u001b[0mself\u001b[0m\u001b[0;34m.\u001b[0m\u001b[0m_input\u001b[0m\u001b[0;34m.\u001b[0m\u001b[0mpush\u001b[0m\u001b[0;34m(\u001b[0m\u001b[0mdata\u001b[0m\u001b[0;34m)\u001b[0m\u001b[0;34m\u001b[0m\u001b[0m\n\u001b[0m\u001b[1;32m    178\u001b[0m         \u001b[0mself\u001b[0m\u001b[0;34m.\u001b[0m\u001b[0m_call_parse\u001b[0m\u001b[0;34m(\u001b[0m\u001b[0;34m)\u001b[0m\u001b[0;34m\u001b[0m\u001b[0m\n\u001b[1;32m    179\u001b[0m \u001b[0;34m\u001b[0m\u001b[0m\n",
      "\u001b[0;31mKeyboardInterrupt\u001b[0m: "
     ]
    }
   ],
   "source": [
    "def get_text_from_email(msg):\n",
    "    '''To get the content from email objects'''\n",
    "    parts = []\n",
    "    for part in msg.walk():\n",
    "        if part.get_content_type() == 'text/plain':\n",
    "            parts.append( part.get_payload() )\n",
    "    return ''.join(parts)\n",
    "\n",
    "def split_email_addresses(line):\n",
    "    '''To separate multiple email addresses'''\n",
    "    if line:\n",
    "        addrs = line.split(',')\n",
    "        addrs = frozenset(map(lambda x: x.strip(), addrs))\n",
    "    else:\n",
    "        addrs = None\n",
    "    return addrs"
   ]
  },
  {
   "cell_type": "code",
   "execution_count": 11,
   "metadata": {
    "collapsed": false,
    "deletable": true,
    "editable": true
   },
   "outputs": [
    {
     "data": {
      "text/plain": [
       "517401"
      ]
     },
     "execution_count": 11,
     "metadata": {},
     "output_type": "execute_result"
    }
   ],
   "source": [
    "len(emails_df)"
   ]
  },
  {
   "cell_type": "code",
   "execution_count": 13,
   "metadata": {
    "collapsed": true,
    "deletable": true,
    "editable": true
   },
   "outputs": [],
   "source": [
    "emails_df.to_csv('data/emails_clean.tsv.gz', index=False, sep='\\t', compression='gzip')"
   ]
  },
  {
   "cell_type": "code",
   "execution_count": 5,
   "metadata": {
    "collapsed": true,
    "deletable": true,
    "editable": true
   },
   "outputs": [],
   "source": [
    "emails_df = pd.read_csv('data/emails_clean.tsv.gz', sep='\\t', compression='gzip')"
   ]
  },
  {
   "cell_type": "code",
   "execution_count": 9,
   "metadata": {
    "collapsed": false,
    "deletable": true,
    "editable": true
   },
   "outputs": [
    {
     "name": "stdout",
     "output_type": "stream",
     "text": [
      "---------------------- Forwarded by Phillip K Allen/HOU/ECT on 08/16/2000 \n",
      "10:58 AM ---------------------------\n",
      "   \n",
      "\t\n",
      "\t\n",
      "\tFrom:  David W Delainey                           08/15/2000 01:28 PM\n",
      "\t\n",
      "\n",
      "Sent by: Kay Chapman\n",
      "To: Tim Belden/HOU/ECT@ECT, Kevin M Presto/HOU/ECT@ECT, John \n",
      "Arnold/HOU/ECT@ECT, Scott Neal/HOU/ECT@ECT, Hunter S Shively/HOU/ECT@ECT, \n",
      "Phillip K Allen/HOU/ECT@ECT, Janet R Dietrich/HOU/ECT@ECT, Christopher F \n",
      "Calger/PDX/ECT@ECT, W David Duran/HOU/ECT@ECT, Raymond Bowen/HOU/ECT@ECT, \n",
      "Jeff Donahue/HOU/ECT@ECT, Brian Redmond/HOU/ECT@ECT, C John \n",
      "Thompson/Corp/Enron@ENRON, Scott Josey/Corp/Enron@ENRON, Rob \n",
      "Milnthorp/CAL/ECT@ECT, Max Yzaguirre/NA/Enron@ENRON, Beth \n",
      "Perlman/HOU/ECT@ECT, Wes Colwell/HOU/ECT@ECT, Sally Beck/HOU/ECT@ECT, David \n",
      "Oxley/HOU/ECT@ECT, Joseph Deffner/HOU/ECT@ECT, Jordan Mintz/HOU/ECT@ECT, Mark \n",
      "E Haedicke/HOU/ECT@ECT\n",
      "cc: Mollie Gustafson/PDX/ECT@ECT, Felicia Doan/HOU/ECT@ECT, Ina \n",
      "Rangel/HOU/ECT@ECT, Kimberly Brown/HOU/ECT@ECT, Airam Arteaga/HOU/ECT@ECT, \n",
      "Christy Chapman/HOU/ECT@ECT, Tina Rode/HOU/ECT@ECT, Marsha \n",
      "Schiller/HOU/ECT@ECT, Lillian Carroll/HOU/ECT@ECT, Tonai \n",
      "Lehr/Corp/Enron@ENRON, Nicole Mayer/HOU/ECT@ECT, Darlene C \n",
      "Forsyth/HOU/ECT@ECT, Janette Elbertson/HOU/ECT@ECT, Angela \n",
      "McCulloch/CAL/ECT@ECT, Pilar Cerezo/NA/Enron@ENRON, Cherylene R \n",
      "Westbrook/HOU/ECT@ECT, Shirley Tijerina/Corp/Enron@ENRON, Nicki \n",
      "Daw/NA/Enron@Enron, Kimberly Hillis/HOU/ECT@ect \n",
      "Subject: ENA Management Committee\n",
      "\n",
      "\n",
      "This is a reminder !!!!!  There will be a Friday Meeting August 18, 2000.  \n",
      "This meeting replaces the every Friday Meeting and will be held every other \n",
      "Friday.\n",
      "\n",
      "     \n",
      "    Date:  Friday August 18, 2000\n",
      "\n",
      "    Time:  2:30 pm - 4:30 pm\n",
      "\n",
      "    Location: 30C1  \n",
      " \n",
      "    Topic:   ENA Management Committee\n",
      "\n",
      "      \n",
      "\n",
      "\n",
      "If you have any questions or conflicts, please feel free to call me (3-0643) \n",
      "or Bev (3-7857).\n",
      "\n",
      "Thanks,\n",
      "\n",
      "Kay 3-0643\n"
     ]
    }
   ],
   "source": [
    "print(emails_df['content'].iloc[101])"
   ]
  },
  {
   "cell_type": "code",
   "execution_count": 22,
   "metadata": {
    "collapsed": true,
    "deletable": true,
    "editable": true
   },
   "outputs": [],
   "source": [
    "gold_df = emails_df[emails_df['content'].str.contains('golf', case=False)]"
   ]
  },
  {
   "cell_type": "code",
   "execution_count": 31,
   "metadata": {
    "collapsed": false,
    "deletable": true,
    "editable": true
   },
   "outputs": [
    {
     "name": "stdout",
     "output_type": "stream",
     "text": [
      "[IMAGE]\n",
      "Yahoo! sent this email to you because your Yahoo! Account Information =20\n",
      "indicated that you wish to receive special offers. If you do not want to=20\n",
      "receive further mailings  from Yahoo! Delivers, unsubscribe now by  clickin=\n",
      "g=20\n",
      "here. You are subscribed at: pallen@ect.enron.com\n",
      "\n",
      "masthead=09 Yahoo!=20\n",
      "=09\n",
      "=09\n",
      "\n",
      "\n",
      "\n",
      "May 2001\n",
      "\n",
      "\n",
      "Greetings! Here's a look at some of the things happening on Yahoo! in May:\n",
      "\n",
      "\n",
      "\n",
      "\n",
      "\n",
      "\n",
      "\n",
      "New Features & Services\n",
      "\n",
      "\n",
      "[IMAGE]\n",
      "Find Last Minute Mother's Day Gifts  -  Don't panic if you haven't found th=\n",
      "e=20\n",
      "perfect gift for Mom. Visit the Last Minute Mother's Day Gift Center on=20\n",
      "Yahoo! Shopping. You'll find outstanding merchants and guaranteed delivery =\n",
      "in=20\n",
      "time for Mom's special day.\n",
      "[IMAGE]\n",
      "Got Stuff to Sell? It's a Great Time to Try Auctions  - Every time you=20\n",
      "successfully sell an item on Yahoo! Auctions between now and June 4, you'll=\n",
      "=20\n",
      "be entered in the Yahoo! Auctions $2 Million Sweepstakes for a chance to wi=\n",
      "n=20\n",
      "one of twenty $100,000 prize packages for your business. =20\n",
      "\n",
      "Each prize package includes:\n",
      "=0F=07?a link on Yahoo!'s front page to your business's auctions\n",
      "=0F=07?a Yahoo! digital camera, mouse, and keyboard=20\n",
      "=0F=07?$85,000 in online advertising across Yahoo!\n",
      "=0F=07?a free Yahoo! Store for six months\n",
      "=0F=07?a one-year registration of your business's domain name\n",
      "\n",
      "Just list and sell for your chance to win. Please see the  official rules f=\n",
      "or=20\n",
      "full sweepstakes details and the seller tips page for more about auction=20\n",
      "selling.=20\n",
      "\n",
      "\n",
      "\n",
      "Spotlight: Real-Time Quotes\n",
      "\n",
      "[IMAGE]=20\n",
      " Make better investment decisions in today's volatile market. Subscribe to=\n",
      "=20\n",
      "the Yahoo! Real-Time Package  for $9.95/month and you'll receive real-time=\n",
      "=20\n",
      "quotes, breaking news, and live market coverage. Use the MarketTracker to=\n",
      "=20\n",
      "monitor your portfolio -- this powerful tool streams continuous market=20\n",
      "updates live to your desktop. You can easily access these real-time feature=\n",
      "s=20\n",
      "through Yahoo! Finance, My Yahoo!, or via your mobile phone, pager, or PDA.=\n",
      "=20\n",
      "\n",
      "\n",
      "\n",
      "\n",
      "Let's Talk About...\n",
      "[IMAGE]\n",
      "Safe Surfing for the Whole Family  - Yahooligans! is  Yahoo!'s web guide fo=\n",
      "r=20\n",
      "kids, a directory of kid-appropriate sites  screened by a staff of=20\n",
      "experienced educators. =20\n",
      "\n",
      "Kids can have fun with daily jokes, news stories, online games, and  Ask=20\n",
      "Earl. Check out the Parents' Guide  for  tips on how your family can use=20\n",
      "Yahooligans! and the Internet.   =20\n",
      "\n",
      "Yahooligans! Messenger is a   safe way for kids to chat online in real time=\n",
      "=20\n",
      "with their friends.  On Yahooligans! Messenger,  only  people on your child=\n",
      "'s=20\n",
      "\"Friends\" list can send messages.  This means that you  don't have to worry=\n",
      "=20\n",
      "about who might be trying to contact your child.=20\n",
      "=09?=09\n",
      "=09=09\n",
      "=09=09Short Takes\n",
      "=09=09\n",
      "=09=09\n",
      "=09=09=0F=07\n",
      "=09=09Mother's Day Greetings - send your mom an online card this May 13. Do=\n",
      "n't=20\n",
      "forget!\n",
      "=09=09=0F=07\n",
      "=09=09Golf Handicap Tracker - track your golf game this summer.  It's free =\n",
      "from=20\n",
      "Yahoo! Sports.\n",
      "=09=09=0F=07\n",
      "=09=09Buzz Index in My Yahoo! - the newest module on My Yahoo! presents a d=\n",
      "aily=20\n",
      "look at what's hot in television, movies, music, sports. Follow the movers=\n",
      "=20\n",
      "and leaders on your personalized Yahoo! page.\n",
      "=09=09?\n",
      "=09=09\n",
      "=09=09\n",
      "=09=09\n",
      "=09=09Tips & Tricks\n",
      "=09=09\n",
      "=09=09\n",
      "=09=09\n",
      "=09=09Stay Alert: Yahoo! Alerts provide the information that's essential to=\n",
      " you,=20\n",
      "delivered right to your email, Yahoo! Messenger, or mobile device. Set up=\n",
      "=20\n",
      "alerts for news, stock quotes, auction updates, sports scores, and more.\n",
      "=09=09\n",
      "=09=09Stay  Informed: View the most-frequently emailed photos and stories f=\n",
      "rom the=20\n",
      "last six hours of Yahoo! News. Looking for something more offbeat? Don't mi=\n",
      "ss=20\n",
      "Full Coverage: FYI.\n",
      "=09=09\n",
      "=09=09Stay Cool: Weather forecasts for your area -- on My Yahoo!, in email,=\n",
      " or on=20\n",
      "your mobile device.\n",
      "=09=09\n",
      "=09=09\n",
      "=09=09Further Reading\n",
      "=09=09\n",
      "=09=09\n",
      "=09=09=0F=07\n",
      "=09=09Help Central\n",
      "=09=09=0F=07\n",
      "=09=09More Yahoo!\n",
      "=09=09=0F=07\n",
      "=09=09What's New on the Web\n",
      "=09=09=0F=07\n",
      "=09=09Privacy Center\n",
      "=09=09[IMAGE]\n",
      "\n",
      "\n",
      "Copyright , 2001 Yahoo! Inc.\n",
      " Yahoo! tries to send you the most relevant offers based on your Yahoo!=20\n",
      "Account Information, interests, and what you use on Yahoo!. Yahoo! uses web=\n",
      "=20\n",
      "beacons in HTML-based email, including in Yahoo! Delivers messages.?To lear=\n",
      "n=20\n",
      "more about Yahoo!'s use of personal information please read our Privacy=20\n",
      "Policy. If you have previously unsubscribed from Yahoo! Delivers, but have=\n",
      "=20\n",
      "received this mailing, please note that it takes approximately five busines=\n",
      "s=20\n",
      "days to process your request. For further assistance with unsubscribing, yo=\n",
      "u=20\n",
      "may contact a Yahoo! Delivers representative by email by clicking here.\n"
     ]
    }
   ],
   "source": [
    "print(gold_df['content'].iloc[5])"
   ]
  },
  {
   "cell_type": "code",
   "execution_count": 116,
   "metadata": {
    "collapsed": false,
    "deletable": true,
    "editable": true,
    "scrolled": true
   },
   "outputs": [
    {
     "ename": "KeyError",
     "evalue": "'[ nan  nan  nan ...,  nan  nan  nan] not in index'",
     "output_type": "error",
     "traceback": [
      "\u001b[0;31m---------------------------------------------------------------------------\u001b[0m",
      "\u001b[0;31mKeyError\u001b[0m                                  Traceback (most recent call last)",
      "\u001b[0;32m<ipython-input-116-1c75059060e6>\u001b[0m in \u001b[0;36m<module>\u001b[0;34m()\u001b[0m\n\u001b[0;32m----> 1\u001b[0;31m \u001b[0memails_df\u001b[0m\u001b[0;34m[\u001b[0m\u001b[0memails_df\u001b[0m\u001b[0;34m[\u001b[0m\u001b[0;34m'To'\u001b[0m\u001b[0;34m]\u001b[0m\u001b[0;34m.\u001b[0m\u001b[0mstr\u001b[0m\u001b[0;34m.\u001b[0m\u001b[0mcontains\u001b[0m\u001b[0;34m(\u001b[0m\u001b[0;34m'enron'\u001b[0m\u001b[0;34m,\u001b[0m \u001b[0mcase\u001b[0m\u001b[0;34m=\u001b[0m\u001b[0mFalse\u001b[0m\u001b[0;34m)\u001b[0m\u001b[0;34m]\u001b[0m\u001b[0;34m\u001b[0m\u001b[0m\n\u001b[0m",
      "\u001b[0;32m/usr/local/lib/python2.7/site-packages/pandas/core/frame.pyc\u001b[0m in \u001b[0;36m__getitem__\u001b[0;34m(self, key)\u001b[0m\n\u001b[1;32m   2051\u001b[0m         \u001b[0;32mif\u001b[0m \u001b[0misinstance\u001b[0m\u001b[0;34m(\u001b[0m\u001b[0mkey\u001b[0m\u001b[0;34m,\u001b[0m \u001b[0;34m(\u001b[0m\u001b[0mSeries\u001b[0m\u001b[0;34m,\u001b[0m \u001b[0mnp\u001b[0m\u001b[0;34m.\u001b[0m\u001b[0mndarray\u001b[0m\u001b[0;34m,\u001b[0m \u001b[0mIndex\u001b[0m\u001b[0;34m,\u001b[0m \u001b[0mlist\u001b[0m\u001b[0;34m)\u001b[0m\u001b[0;34m)\u001b[0m\u001b[0;34m:\u001b[0m\u001b[0;34m\u001b[0m\u001b[0m\n\u001b[1;32m   2052\u001b[0m             \u001b[0;31m# either boolean or fancy integer index\u001b[0m\u001b[0;34m\u001b[0m\u001b[0;34m\u001b[0m\u001b[0m\n\u001b[0;32m-> 2053\u001b[0;31m             \u001b[0;32mreturn\u001b[0m \u001b[0mself\u001b[0m\u001b[0;34m.\u001b[0m\u001b[0m_getitem_array\u001b[0m\u001b[0;34m(\u001b[0m\u001b[0mkey\u001b[0m\u001b[0;34m)\u001b[0m\u001b[0;34m\u001b[0m\u001b[0m\n\u001b[0m\u001b[1;32m   2054\u001b[0m         \u001b[0;32melif\u001b[0m \u001b[0misinstance\u001b[0m\u001b[0;34m(\u001b[0m\u001b[0mkey\u001b[0m\u001b[0;34m,\u001b[0m \u001b[0mDataFrame\u001b[0m\u001b[0;34m)\u001b[0m\u001b[0;34m:\u001b[0m\u001b[0;34m\u001b[0m\u001b[0m\n\u001b[1;32m   2055\u001b[0m             \u001b[0;32mreturn\u001b[0m \u001b[0mself\u001b[0m\u001b[0;34m.\u001b[0m\u001b[0m_getitem_frame\u001b[0m\u001b[0;34m(\u001b[0m\u001b[0mkey\u001b[0m\u001b[0;34m)\u001b[0m\u001b[0;34m\u001b[0m\u001b[0m\n",
      "\u001b[0;32m/usr/local/lib/python2.7/site-packages/pandas/core/frame.pyc\u001b[0m in \u001b[0;36m_getitem_array\u001b[0;34m(self, key)\u001b[0m\n\u001b[1;32m   2095\u001b[0m             \u001b[0;32mreturn\u001b[0m \u001b[0mself\u001b[0m\u001b[0;34m.\u001b[0m\u001b[0mtake\u001b[0m\u001b[0;34m(\u001b[0m\u001b[0mindexer\u001b[0m\u001b[0;34m,\u001b[0m \u001b[0maxis\u001b[0m\u001b[0;34m=\u001b[0m\u001b[0;36m0\u001b[0m\u001b[0;34m,\u001b[0m \u001b[0mconvert\u001b[0m\u001b[0;34m=\u001b[0m\u001b[0mFalse\u001b[0m\u001b[0;34m)\u001b[0m\u001b[0;34m\u001b[0m\u001b[0m\n\u001b[1;32m   2096\u001b[0m         \u001b[0;32melse\u001b[0m\u001b[0;34m:\u001b[0m\u001b[0;34m\u001b[0m\u001b[0m\n\u001b[0;32m-> 2097\u001b[0;31m             \u001b[0mindexer\u001b[0m \u001b[0;34m=\u001b[0m \u001b[0mself\u001b[0m\u001b[0;34m.\u001b[0m\u001b[0mix\u001b[0m\u001b[0;34m.\u001b[0m\u001b[0m_convert_to_indexer\u001b[0m\u001b[0;34m(\u001b[0m\u001b[0mkey\u001b[0m\u001b[0;34m,\u001b[0m \u001b[0maxis\u001b[0m\u001b[0;34m=\u001b[0m\u001b[0;36m1\u001b[0m\u001b[0;34m)\u001b[0m\u001b[0;34m\u001b[0m\u001b[0m\n\u001b[0m\u001b[1;32m   2098\u001b[0m             \u001b[0;32mreturn\u001b[0m \u001b[0mself\u001b[0m\u001b[0;34m.\u001b[0m\u001b[0mtake\u001b[0m\u001b[0;34m(\u001b[0m\u001b[0mindexer\u001b[0m\u001b[0;34m,\u001b[0m \u001b[0maxis\u001b[0m\u001b[0;34m=\u001b[0m\u001b[0;36m1\u001b[0m\u001b[0;34m,\u001b[0m \u001b[0mconvert\u001b[0m\u001b[0;34m=\u001b[0m\u001b[0mTrue\u001b[0m\u001b[0;34m)\u001b[0m\u001b[0;34m\u001b[0m\u001b[0m\n\u001b[1;32m   2099\u001b[0m \u001b[0;34m\u001b[0m\u001b[0m\n",
      "\u001b[0;32m/usr/local/lib/python2.7/site-packages/pandas/core/indexing.pyc\u001b[0m in \u001b[0;36m_convert_to_indexer\u001b[0;34m(self, obj, axis, is_setter)\u001b[0m\n\u001b[1;32m   1228\u001b[0m                 \u001b[0mmask\u001b[0m \u001b[0;34m=\u001b[0m \u001b[0mcheck\u001b[0m \u001b[0;34m==\u001b[0m \u001b[0;34m-\u001b[0m\u001b[0;36m1\u001b[0m\u001b[0;34m\u001b[0m\u001b[0m\n\u001b[1;32m   1229\u001b[0m                 \u001b[0;32mif\u001b[0m \u001b[0mmask\u001b[0m\u001b[0;34m.\u001b[0m\u001b[0many\u001b[0m\u001b[0;34m(\u001b[0m\u001b[0;34m)\u001b[0m\u001b[0;34m:\u001b[0m\u001b[0;34m\u001b[0m\u001b[0m\n\u001b[0;32m-> 1230\u001b[0;31m                     \u001b[0;32mraise\u001b[0m \u001b[0mKeyError\u001b[0m\u001b[0;34m(\u001b[0m\u001b[0;34m'%s not in index'\u001b[0m \u001b[0;34m%\u001b[0m \u001b[0mobjarr\u001b[0m\u001b[0;34m[\u001b[0m\u001b[0mmask\u001b[0m\u001b[0;34m]\u001b[0m\u001b[0;34m)\u001b[0m\u001b[0;34m\u001b[0m\u001b[0m\n\u001b[0m\u001b[1;32m   1231\u001b[0m \u001b[0;34m\u001b[0m\u001b[0m\n\u001b[1;32m   1232\u001b[0m                 \u001b[0;32mreturn\u001b[0m \u001b[0m_values_from_object\u001b[0m\u001b[0;34m(\u001b[0m\u001b[0mindexer\u001b[0m\u001b[0;34m)\u001b[0m\u001b[0;34m\u001b[0m\u001b[0m\n",
      "\u001b[0;31mKeyError\u001b[0m: '[ nan  nan  nan ...,  nan  nan  nan] not in index'"
     ]
    }
   ],
   "source": [
    "emails_df[emails_df['To'].str.contains('enron', case=False)]"
   ]
  },
  {
   "cell_type": "code",
   "execution_count": 12,
   "metadata": {
    "collapsed": true,
    "deletable": true,
    "editable": true
   },
   "outputs": [],
   "source": [
    "import spacy"
   ]
  },
  {
   "cell_type": "code",
   "execution_count": 13,
   "metadata": {
    "collapsed": true,
    "deletable": true,
    "editable": true
   },
   "outputs": [],
   "source": [
    "nlp = spacy.load('en')"
   ]
  },
  {
   "cell_type": "code",
   "execution_count": 14,
   "metadata": {
    "collapsed": false,
    "deletable": true,
    "editable": true
   },
   "outputs": [
    {
     "name": "stdout",
     "output_type": "stream",
     "text": [
      "Reagan,\n",
      "\n",
      "Thank you for the quick response on the bid for the residence.  Below is a \n",
      "list of questions on the specs:\n",
      "\n",
      "1.  Is the framing Lumber #2 yellow pine?  Wouldn't fir or spruce warp less \n",
      "and cost about the same?\n",
      "\n",
      "2.  What type of floor joist would be used?  2x12 or some sort of factory \n",
      "joist?\n",
      "\n",
      "3.  What type for roof framing?  On site built rafters? or engineered trusses?\n",
      "\n",
      "4.  Are you planning for insulation between floors to dampen sound?  What \n",
      "type of insulation in floors and ceiling?  Batts or blown?  Fiberglass or \n",
      "Cellulose?\n",
      "\n",
      "5.  Any ridge venting or other vents (power or turbine)?\n",
      "\n",
      "6. Did you bid for interior windows to have trim on 4 sides?  I didn't know \n",
      "the difference between an apron and a stool.\n",
      "\n",
      "7.  Do you do anything special under the upstairs tile floors to prevent \n",
      "cracking?  Double plywood or hardi board underlay?\n",
      "\n",
      "8.  On the stairs, did you allow for a bannister?  I was thinking a partial \n",
      "one out of iron.  Only about 5 feet.\n",
      "\n",
      "9.  I did not label it on the plan, but I was intending for a 1/2 bath under \n",
      "the stairs. A pedestal sink would probably work.\n",
      "\n",
      "10.  Are undermount sinks different than drop ins?  I was thinking undermount \n",
      "stainless in kitchen and undermount cast iron in baths.\n",
      "\n",
      "11.  1 or 2 A/C units?  I am assuming 2.\n",
      "\n",
      "12.  Prewired for sound indoors and outdoors?\n",
      "\n",
      "13.  No door and drawer pulls on any cabinets or just bath cabinets?\n",
      "\n",
      "14.  Exterior porches included in bid?  Cedar decking on upstairs?  Iron \n",
      "railings?\n",
      "\n",
      "15.  What type of construction contract would you use?  Fixed price except \n",
      "for change orders?\n",
      "\n",
      "I want to get painfully detailed with the specs before I make a decision but \n",
      "this is a start.  I think I am ready to get plans drawn up.  I am going to \n",
      "call Cary Kipp to\n",
      "see about setting up a design meeting to see if I like his ideas.\n",
      "\n",
      "Phillip\n",
      "I\n",
      "\n",
      " \n"
     ]
    }
   ],
   "source": [
    "print(emails_df['content'].iloc[973])"
   ]
  },
  {
   "cell_type": "code",
   "execution_count": null,
   "metadata": {
    "collapsed": true,
    "deletable": true,
    "editable": true
   },
   "outputs": [],
   "source": []
  },
  {
   "cell_type": "code",
   "execution_count": null,
   "metadata": {
    "collapsed": true,
    "deletable": true,
    "editable": true
   },
   "outputs": [],
   "source": []
  },
  {
   "cell_type": "code",
   "execution_count": null,
   "metadata": {
    "collapsed": true,
    "deletable": true,
    "editable": true
   },
   "outputs": [],
   "source": []
  },
  {
   "cell_type": "code",
   "execution_count": null,
   "metadata": {
    "collapsed": true,
    "deletable": true,
    "editable": true
   },
   "outputs": [],
   "source": []
  },
  {
   "cell_type": "code",
   "execution_count": null,
   "metadata": {
    "collapsed": true,
    "deletable": true,
    "editable": true
   },
   "outputs": [],
   "source": []
  },
  {
   "cell_type": "code",
   "execution_count": 15,
   "metadata": {
    "collapsed": true,
    "deletable": true,
    "editable": true
   },
   "outputs": [],
   "source": [
    "doc = nlp(emails_df['content'].iloc[3].decode(encoding='utf-8', errors='strict'))"
   ]
  },
  {
   "cell_type": "code",
   "execution_count": 19,
   "metadata": {
    "collapsed": false,
    "deletable": true,
    "editable": true
   },
   "outputs": [
    {
     "data": {
      "text/plain": [
       "Randy,\n",
       "\n",
       " Can you send me a schedule of the salary and level of everyone in the \n",
       "scheduling group.  Plus your thoughts on any changes that need to be made.  \n",
       "(Patti S for example)\n",
       "\n",
       "Phillip"
      ]
     },
     "execution_count": 19,
     "metadata": {},
     "output_type": "execute_result"
    }
   ],
   "source": [
    "doc"
   ]
  },
  {
   "cell_type": "code",
   "execution_count": 16,
   "metadata": {
    "collapsed": false,
    "deletable": true,
    "editable": true
   },
   "outputs": [
    {
     "data": {
      "text/plain": [
       "(Randy, Patti S, Phillip)"
      ]
     },
     "execution_count": 16,
     "metadata": {},
     "output_type": "execute_result"
    }
   ],
   "source": [
    "doc.ents"
   ]
  },
  {
   "cell_type": "code",
   "execution_count": 17,
   "metadata": {
    "collapsed": false,
    "deletable": true,
    "editable": true
   },
   "outputs": [
    {
     "data": {
      "text/plain": [
       "[u'PROPN',\n",
       " u'PUNCT',\n",
       " u'SPACE',\n",
       " u'VERB',\n",
       " u'PRON',\n",
       " u'VERB',\n",
       " u'PRON',\n",
       " u'DET',\n",
       " u'NOUN',\n",
       " u'ADP',\n",
       " u'DET',\n",
       " u'NOUN',\n",
       " u'CCONJ',\n",
       " u'NOUN',\n",
       " u'ADP',\n",
       " u'NOUN',\n",
       " u'ADP',\n",
       " u'DET',\n",
       " u'SPACE',\n",
       " u'NOUN',\n",
       " u'NOUN',\n",
       " u'PUNCT',\n",
       " u'SPACE',\n",
       " u'CCONJ',\n",
       " u'ADJ',\n",
       " u'NOUN',\n",
       " u'ADP',\n",
       " u'DET',\n",
       " u'NOUN',\n",
       " u'ADJ',\n",
       " u'VERB',\n",
       " u'PART',\n",
       " u'VERB',\n",
       " u'VERB',\n",
       " u'PUNCT',\n",
       " u'SPACE',\n",
       " u'PUNCT',\n",
       " u'PROPN',\n",
       " u'PROPN',\n",
       " u'ADP',\n",
       " u'NOUN',\n",
       " u'PUNCT',\n",
       " u'SPACE',\n",
       " u'PROPN']"
      ]
     },
     "execution_count": 17,
     "metadata": {},
     "output_type": "execute_result"
    }
   ],
   "source": [
    "[_.pos_ for _ in doc]"
   ]
  },
  {
   "cell_type": "code",
   "execution_count": 20,
   "metadata": {
    "collapsed": false,
    "deletable": true,
    "editable": true
   },
   "outputs": [
    {
     "data": {
      "text/plain": [
       "[u'PERSON',\n",
       " u'',\n",
       " u'',\n",
       " u'',\n",
       " u'',\n",
       " u'',\n",
       " u'',\n",
       " u'',\n",
       " u'',\n",
       " u'',\n",
       " u'',\n",
       " u'',\n",
       " u'',\n",
       " u'',\n",
       " u'',\n",
       " u'',\n",
       " u'',\n",
       " u'',\n",
       " u'',\n",
       " u'',\n",
       " u'',\n",
       " u'',\n",
       " u'',\n",
       " u'',\n",
       " u'',\n",
       " u'',\n",
       " u'',\n",
       " u'',\n",
       " u'',\n",
       " u'',\n",
       " u'',\n",
       " u'',\n",
       " u'',\n",
       " u'',\n",
       " u'',\n",
       " u'',\n",
       " u'',\n",
       " u'PERSON',\n",
       " u'PERSON',\n",
       " u'',\n",
       " u'',\n",
       " u'',\n",
       " u'',\n",
       " u'PERSON']"
      ]
     },
     "execution_count": 20,
     "metadata": {},
     "output_type": "execute_result"
    }
   ],
   "source": [
    "[_.ent_type_ for _ in doc]"
   ]
  },
  {
   "cell_type": "code",
   "execution_count": 85,
   "metadata": {
    "collapsed": false,
    "deletable": true,
    "editable": true
   },
   "outputs": [
    {
     "data": {
      "text/plain": [
       "[u'PRP', u'VBZ', u'VBG', u'.']"
      ]
     },
     "execution_count": 85,
     "metadata": {},
     "output_type": "execute_result"
    }
   ],
   "source": [
    "[_.tag_ for _ in nlp(u\"She is speaking.\")]"
   ]
  },
  {
   "cell_type": "code",
   "execution_count": 88,
   "metadata": {
    "collapsed": false,
    "deletable": true,
    "editable": true
   },
   "outputs": [
    {
     "data": {
      "text/plain": [
       "[u'DT', u'NN', u'VBZ', u'PRP$', u'.']"
      ]
     },
     "execution_count": 88,
     "metadata": {},
     "output_type": "execute_result"
    }
   ],
   "source": [
    "[_.tag_ for _ in nlp(u\"The backpack is his.\")]"
   ]
  },
  {
   "cell_type": "code",
   "execution_count": 89,
   "metadata": {
    "collapsed": true,
    "deletable": true,
    "editable": true
   },
   "outputs": [],
   "source": [
    "gender_neutral = {\n",
    "    'PRF' : 'Hirself/Zirself',\n",
    "    'WP$': 'Hirs/Zirs',\n",
    "    'PRP$' : 'Hirs/Zirs',\n",
    "    'PRP' : 'Ze'\n",
    "}"
   ]
  },
  {
   "cell_type": "code",
   "execution_count": 76,
   "metadata": {
    "collapsed": false,
    "deletable": true,
    "editable": true,
    "scrolled": true
   },
   "outputs": [
    {
     "name": "stdout",
     "output_type": "stream",
     "text": [
      "(u'Randy', u'NNP')\n",
      "(u',', u',')\n",
      "(u'\\n\\n ', u'SP')\n",
      "(u'Can', u'MD')\n",
      "(u'you', u'PRP')\n",
      "(u'send', u'VB')\n",
      "(u'me', u'PRP')\n",
      "(u'a', u'DT')\n",
      "(u'schedule', u'NN')\n",
      "(u'of', u'IN')\n",
      "(u'the', u'DT')\n",
      "(u'salary', u'NN')\n",
      "(u'and', u'CC')\n",
      "(u'level', u'NN')\n",
      "(u'of', u'IN')\n",
      "(u'everyone', u'NN')\n",
      "(u'in', u'IN')\n",
      "(u'the', u'DT')\n",
      "(u'\\n', u'SP')\n",
      "(u'scheduling', u'NN')\n",
      "(u'group', u'NN')\n",
      "(u'.', u'.')\n",
      "(u' ', u'SP')\n",
      "(u'Plus', u'CC')\n",
      "(u'your', u'PRP$')\n",
      "(u'thoughts', u'NNS')\n",
      "(u'on', u'IN')\n",
      "(u'any', u'DT')\n",
      "(u'changes', u'NNS')\n",
      "(u'that', u'WDT')\n",
      "(u'need', u'VBP')\n",
      "(u'to', u'TO')\n",
      "(u'be', u'VB')\n",
      "(u'made', u'VBN')\n",
      "(u'.', u'.')\n",
      "(u' \\n', u'SP')\n",
      "(u'(', u'-LRB-')\n",
      "(u'Patti', u'NNP')\n",
      "(u'S', u'NNP')\n",
      "(u'for', u'IN')\n",
      "(u'example', u'NN')\n",
      "(u')', u'-RRB-')\n",
      "(u'\\n\\n', u'SP')\n",
      "(u'Phillip', u'NNP')\n"
     ]
    }
   ],
   "source": [
    "for word in doc:\n",
    "    print(word.text, word.tag_)"
   ]
  },
  {
   "cell_type": "code",
   "execution_count": 75,
   "metadata": {
    "collapsed": false,
    "deletable": true,
    "editable": true
   },
   "outputs": [
    {
     "name": "stdout",
     "output_type": "stream",
     "text": [
      "(u'Randy', 283848, u'randy', 475, u'NNP', 94, u'PROPN')\n",
      "(u',', 450, u',', 450, u',', 95, u'PUNCT')\n",
      "(u'\\n\\n ', 2446, u'\\n\\n ', 485, u'SP', 101, u'SPACE')\n",
      "(u'Can', 586, u'can', 471, u'MD', 98, u'VERB')\n",
      "(u'you', 757862, u'-PRON-', 479, u'PRP', 93, u'PRON')\n",
      "(u'send', 1919, u'send', 488, u'VB', 98, u'VERB')\n",
      "(u'me', 757862, u'-PRON-', 479, u'PRP', 93, u'PRON')\n",
      "(u'a', 506, u'a', 460, u'DT', 88, u'DET')\n",
      "(u'schedule', 7517, u'schedule', 474, u'NN', 90, u'NOUN')\n",
      "(u'of', 510, u'of', 466, u'IN', 83, u'ADP')\n",
      "(u'the', 501, u'the', 460, u'DT', 88, u'DET')\n",
      "(u'salary', 4289, u'salary', 474, u'NN', 90, u'NOUN')\n",
      "(u'and', 512, u'and', 458, u'CC', 87, u'CCONJ')\n",
      "(u'level', 1203, u'level', 474, u'NN', 90, u'NOUN')\n",
      "(u'of', 510, u'of', 466, u'IN', 83, u'ADP')\n",
      "(u'everyone', 930, u'everyone', 474, u'NN', 90, u'NOUN')\n",
      "(u'in', 522, u'in', 466, u'IN', 83, u'ADP')\n",
      "(u'the', 501, u'the', 460, u'DT', 88, u'DET')\n",
      "(u'\\n', 518, u'\\n', 485, u'SP', 101, u'SPACE')\n",
      "(u'scheduling', 92101, u'scheduling', 474, u'NN', 90, u'NOUN')\n",
      "(u'group', 1305, u'group', 474, u'NN', 90, u'NOUN')\n",
      "(u'.', 453, u'.', 453, u'.', 95, u'PUNCT')\n",
      "(u' ', 523, u' ', 485, u'SP', 101, u'SPACE')\n",
      "(u'Plus', 2834, u'plus', 458, u'CC', 87, u'CCONJ')\n",
      "(u'your', 757862, u'-PRON-', 480, u'PRP$', 82, u'ADJ')\n",
      "(u'thoughts', 834, u'thought', 477, u'NNS', 90, u'NOUN')\n",
      "(u'on', 542, u'on', 466, u'IN', 83, u'ADP')\n",
      "(u'any', 661, u'any', 460, u'DT', 88, u'DET')\n",
      "(u'changes', 972, u'change', 477, u'NNS', 90, u'NOUN')\n",
      "(u'that', 514, u'that', 494, u'WDT', 82, u'ADJ')\n",
      "(u'need', 646847, u'ne', 492, u'VBP', 98, u'VERB')\n",
      "(u'to', 504, u'to', 486, u'TO', 92, u'PART')\n",
      "(u'be', 536, u'be', 488, u'VB', 98, u'VERB')\n",
      "(u'made', 664, u'make', 491, u'VBN', 98, u'VERB')\n",
      "(u'.', 453, u'.', 453, u'.', 95, u'PUNCT')\n",
      "(u' \\n', 1744, u' \\n', 485, u'SP', 101, u'SPACE')\n",
      "(u'(', 562, u'(', 451, u'-LRB-', 95, u'PUNCT')\n",
      "(u'Patti', 294457, u'patti', 475, u'NNP', 94, u'PROPN')\n",
      "(u'S', 600, u's', 475, u'NNP', 94, u'PROPN')\n",
      "(u'for', 531, u'for', 466, u'IN', 83, u'ADP')\n",
      "(u'example', 1089, u'example', 474, u'NN', 90, u'NOUN')\n",
      "(u')', 547, u')', 452, u'-RRB-', 95, u'PUNCT')\n",
      "(u'\\n\\n', 517, u'\\n\\n', 485, u'SP', 101, u'SPACE')\n",
      "(u'Phillip', 563934, u'phillip', 475, u'NNP', 94, u'PROPN')\n"
     ]
    }
   ],
   "source": [
    "for word in doc:\n",
    "    print(word.text, word.lemma, word.lemma_, word.tag, word.tag_, word.pos, word.pos_)"
   ]
  },
  {
   "cell_type": "code",
   "execution_count": 54,
   "metadata": {
    "collapsed": true,
    "deletable": true,
    "editable": true
   },
   "outputs": [],
   "source": [
    "propn_idx = [i for i, _ in enumerate(doc) if _.pos_ == u'PROPN']"
   ]
  },
  {
   "cell_type": "code",
   "execution_count": 71,
   "metadata": {
    "collapsed": true,
    "deletable": true,
    "editable": true
   },
   "outputs": [],
   "source": [
    "people_names = [\n",
    "    'Brooklyn',\n",
    "    'Chastity',\n",
    "    'Lil B',\n",
    "    'Pauly'\n",
    "]"
   ]
  },
  {
   "cell_type": "code",
   "execution_count": null,
   "metadata": {
    "collapsed": true,
    "deletable": true,
    "editable": true
   },
   "outputs": [],
   "source": [
    "common_fuck_ups = {\n",
    "    'girl' : 'person',\n",
    "    'girls' : 'people',\n",
    "    'boy' : 'child',\n",
    "    'boys' : 'children',\n",
    "    'man': 'he/his/'\n",
    "}"
   ]
  },
  {
   "cell_type": "code",
   "execution_count": null,
   "metadata": {
    "collapsed": true,
    "deletable": true,
    "editable": true
   },
   "outputs": [],
   "source": [
    "for word in doc:\n",
    "    print(word.text, word.lemma, word.lemma_, word.tag, word.tag_, word.pos, word.pos_)"
   ]
  },
  {
   "cell_type": "code",
   "execution_count": 92,
   "metadata": {
    "collapsed": false,
    "deletable": true,
    "editable": true
   },
   "outputs": [
    {
     "name": "stdout",
     "output_type": "stream",
     "text": [
      "Pauly\n",
      ",\n",
      "\n",
      "\n",
      " \n",
      "Can\n",
      "you\n",
      "send\n",
      "me\n",
      "a\n",
      "schedule\n",
      "of\n",
      "the\n",
      "salary\n",
      "and\n",
      "level\n",
      "of\n",
      "everyone\n",
      "in\n",
      "the\n",
      "\n",
      "\n",
      "scheduling\n",
      "group\n",
      ".\n",
      " \n",
      "Plus\n",
      "your\n",
      "thoughts\n",
      "on\n",
      "any\n",
      "changes\n",
      "that\n",
      "need\n",
      "to\n",
      "be\n",
      "made\n",
      ".\n",
      " \n",
      "\n",
      "(\n",
      "Lil B\n",
      "Pauly\n",
      "for\n",
      "example\n",
      ")\n",
      "\n",
      "\n",
      "\n",
      "Pauly\n"
     ]
    }
   ],
   "source": [
    "for i, _ in enumerate(txt):\n",
    "    if i in propn_idx:\n",
    "        print(random.choice(people_names))\n",
    "    else:\n",
    "        print(_)"
   ]
  },
  {
   "cell_type": "code",
   "execution_count": 11,
   "metadata": {
    "collapsed": false,
    "deletable": true,
    "editable": true
   },
   "outputs": [
    {
     "name": "stdout",
     "output_type": "stream",
     "text": [
      "Collecting gensim\n",
      "  Downloading gensim-2.3.0-cp27-cp27m-macosx_10_6_intel.macosx_10_9_intel.macosx_10_9_x86_64.macosx_10_10_intel.macosx_10_10_x86_64.whl (6.4MB)\n",
      "Collecting nltk\n",
      "  Downloading nltk-3.2.4.tar.gz (1.2MB)\n",
      "Requirement already satisfied: six>=1.5.0 in /usr/local/lib/python2.7/site-packages (from gensim)\n",
      "Collecting smart-open>=1.2.1 (from gensim)\n",
      "  Downloading smart_open-1.5.3.tar.gz\n",
      "Requirement already satisfied: numpy>=1.11.3 in /usr/local/lib/python2.7/site-packages (from gensim)\n",
      "Requirement already satisfied: scipy>=0.18.1 in /usr/local/lib/python2.7/site-packages (from gensim)\n",
      "Collecting boto>=2.32 (from smart-open>=1.2.1->gensim)\n",
      "  Downloading boto-2.48.0-py2.py3-none-any.whl (1.4MB)\n",
      "Collecting bz2file (from smart-open>=1.2.1->gensim)\n",
      "  Using cached bz2file-0.98.tar.gz\n",
      "Requirement already satisfied: requests in /usr/local/lib/python2.7/site-packages (from smart-open>=1.2.1->gensim)\n",
      "Building wheels for collected packages: nltk, smart-open, bz2file\n",
      "  Running setup.py bdist_wheel for nltk: started\n",
      "  Running setup.py bdist_wheel for nltk: finished with status 'done'\n",
      "  Stored in directory: /Users/leonyin/Library/Caches/pip/wheels/79/8b/2a/b2da7fce57a1fd9b20b08fa8800c83b6fde62af9e880722e29\n",
      "  Running setup.py bdist_wheel for smart-open: started\n",
      "  Running setup.py bdist_wheel for smart-open: finished with status 'done'\n",
      "  Stored in directory: /Users/leonyin/Library/Caches/pip/wheels/b0/81/ad/856aade935fceaab491a800ec4de58edb8642afa4c4ba91a00\n",
      "  Running setup.py bdist_wheel for bz2file: started\n",
      "  Running setup.py bdist_wheel for bz2file: finished with status 'done'\n",
      "  Stored in directory: /Users/leonyin/Library/Caches/pip/wheels/31/9c/20/996d65ca104cbca940b1b053299b68459391c01c774d073126\n",
      "Successfully built nltk smart-open bz2file\n",
      "Installing collected packages: boto, bz2file, smart-open, gensim, nltk\n",
      "Successfully installed boto-2.48.0 bz2file-0.98 gensim-2.3.0 nltk-3.2.4 smart-open-1.5.3\n"
     ]
    }
   ],
   "source": [
    "%%sh\n",
    "pip install gensim nltk"
   ]
  },
  {
   "cell_type": "code",
   "execution_count": 25,
   "metadata": {
    "collapsed": true,
    "deletable": true,
    "editable": true
   },
   "outputs": [],
   "source": [
    "import re\n",
    "\n",
    "from gensim.models import Word2Vec\n",
    "from nltk.corpus import stopwords"
   ]
  },
  {
   "cell_type": "code",
   "execution_count": 21,
   "metadata": {
    "collapsed": true,
    "deletable": true,
    "editable": true
   },
   "outputs": [],
   "source": [
    "def link2domain(tok):\n",
    "    '''\n",
    "    Replaces links with the domain name.\n",
    "    '''\n",
    "    pattern = re.compile(\n",
    "        r'^(?:http|ftp)s?://' # http:// or https://\n",
    "        r'(?:(?:[A-Z0-9](?:[A-Z0-9-]{0,61}[A-Z0-9])?\\.)+(?:[A-Z]{2,6}\\.?|[A-Z0-9-]{2,}\\.?)|' #domain...\n",
    "        r'localhost|' #localhost...\n",
    "        r'\\d{1,3}\\.\\d{1,3}\\.\\d{1,3}\\.\\d{1,3})' # ...or ip\n",
    "        r'(?::\\d+)?' # optional port\n",
    "        r'(?:/?|[/?]\\S+)$', re.IGNORECASE)\n",
    "    \n",
    "    if re.match(pattern, tok):\n",
    "        return urlparse(tok).netloc\n",
    "    else:\n",
    "        return tok\n",
    "\n",
    "def scrub_text(text):\n",
    "    '''\n",
    "    Preprocesses the text\n",
    "    '''\n",
    "    # removes response\n",
    "    text = re.sub('>>[0-9]+|>', ' ', text)\n",
    "    # removes extra '>' signs\n",
    "    text = re.sub(r'<[^>]+>', ' ', text)\n",
    "    # removes punctuation\n",
    "    text = re.sub(r'[^\\w\\s]',' ', text)\n",
    "    # removes extra white spacing\n",
    "    text = text.replace('  ', ' ')\n",
    "    \n",
    "    text = [_ for _ in text.lower().split()]\n",
    "    # turns text to lower case, splits into words, and resolves links to domains\n",
    "    return text"
   ]
  },
  {
   "cell_type": "code",
   "execution_count": 22,
   "metadata": {
    "collapsed": false,
    "deletable": true,
    "editable": true
   },
   "outputs": [
    {
     "data": {
      "text/plain": [
       "['here', 'is', 'our', 'forecast']"
      ]
     },
     "execution_count": 22,
     "metadata": {},
     "output_type": "execute_result"
    }
   ],
   "source": [
    "scrub_text(emails_df['content'].iloc[0])"
   ]
  },
  {
   "cell_type": "code",
   "execution_count": 24,
   "metadata": {
    "collapsed": true,
    "deletable": true,
    "editable": true
   },
   "outputs": [],
   "source": [
    "comments = emails_df['content'].apply(scrub_text).tolist()"
   ]
  },
  {
   "cell_type": "code",
   "execution_count": 26,
   "metadata": {
    "collapsed": true,
    "deletable": true,
    "editable": true
   },
   "outputs": [],
   "source": [
    "model = Word2Vec([c for c in comments],\n",
    "    iter=5, window=7, min_count=5, size=100, workers=8\n",
    ")"
   ]
  },
  {
   "cell_type": "code",
   "execution_count": 27,
   "metadata": {
    "collapsed": false,
    "deletable": true,
    "editable": true
   },
   "outputs": [
    {
     "data": {
      "text/plain": [
       "[('wrestling', 0.723899781703949),\n",
       " ('damn', 0.6433776617050171),\n",
       " ('fwd', 0.6193147301673889),\n",
       " ('redneck', 0.5905154347419739),\n",
       " ('scary', 0.5871917605400085),\n",
       " ('cow', 0.5727754235267639),\n",
       " ('tooth', 0.558118462562561),\n",
       " ('killer', 0.5577884316444397),\n",
       " ('wig', 0.5571906566619873),\n",
       " ('revenge', 0.5479018688201904)]"
      ]
     },
     "execution_count": 27,
     "metadata": {},
     "output_type": "execute_result"
    }
   ],
   "source": [
    "model.wv.most_similar(positive=['fake'], topn=10)"
   ]
  },
  {
   "cell_type": "code",
   "execution_count": 53,
   "metadata": {
    "collapsed": false,
    "deletable": true,
    "editable": true
   },
   "outputs": [
    {
     "data": {
      "text/plain": [
       "[('inspections', 0.6499440670013428),\n",
       " ('maintenance', 0.6461998224258423),\n",
       " ('repair', 0.6438158750534058),\n",
       " ('shutdowns', 0.6411166191101074),\n",
       " ('pigging', 0.6001098155975342),\n",
       " ('disassembly', 0.5799351334571838),\n",
       " ('riser', 0.5795475244522095),\n",
       " ('hydrostatic', 0.57021164894104),\n",
       " ('refueling', 0.5651419758796692),\n",
       " ('malfunction', 0.5631057024002075)]"
      ]
     },
     "execution_count": 53,
     "metadata": {},
     "output_type": "execute_result"
    }
   ],
   "source": [
    "model.wv.most_similar(positive=['repairs'], topn=10)"
   ]
  },
  {
   "cell_type": "code",
   "execution_count": 50,
   "metadata": {
    "collapsed": false,
    "deletable": true,
    "editable": true
   },
   "outputs": [
    {
     "data": {
      "text/plain": [
       "[('lady', 0.7015394568443298),\n",
       " ('boy', 0.6963598728179932),\n",
       " ('woman', 0.681133508682251),\n",
       " ('barbie', 0.6764521598815918),\n",
       " ('lobster', 0.6749589443206787),\n",
       " ('barbiec', 0.6712818741798401),\n",
       " ('song', 0.6688376069068909),\n",
       " ('man', 0.6648068428039551),\n",
       " ('kitty', 0.661173403263092),\n",
       " ('bartender', 0.6593338847160339)]"
      ]
     },
     "execution_count": 50,
     "metadata": {},
     "output_type": "execute_result"
    }
   ],
   "source": [
    "model.wv.most_similar(positive=['blonde'], topn=10)"
   ]
  },
  {
   "cell_type": "code",
   "execution_count": 28,
   "metadata": {
    "collapsed": false,
    "deletable": true,
    "editable": true
   },
   "outputs": [
    {
     "data": {
      "text/plain": [
       "[('gorgeous', 0.7134966850280762),\n",
       " ('raspberry', 0.6961207389831543),\n",
       " ('beautiful', 0.6951415538787842),\n",
       " ('champagne', 0.694733738899231),\n",
       " ('silk', 0.694441556930542),\n",
       " ('cheese', 0.6920521259307861),\n",
       " ('horseback', 0.689856767654419),\n",
       " ('lobster', 0.6862021684646606),\n",
       " ('sandals', 0.6842969655990601),\n",
       " ('zinfandel', 0.6838836669921875)]"
      ]
     },
     "execution_count": 28,
     "metadata": {},
     "output_type": "execute_result"
    }
   ],
   "source": [
    "model.wv.most_similar(positive=['flower'], topn=10)"
   ]
  },
  {
   "cell_type": "code",
   "execution_count": 29,
   "metadata": {
    "collapsed": true,
    "deletable": true,
    "editable": true
   },
   "outputs": [],
   "source": [
    "model.save('data/w2v')"
   ]
  },
  {
   "cell_type": "code",
   "execution_count": 33,
   "metadata": {
    "collapsed": false,
    "deletable": true,
    "editable": true
   },
   "outputs": [
    {
     "data": {
      "text/plain": [
       "[('woman', 0.8552735447883606),\n",
       " ('boy', 0.7619658708572388),\n",
       " ('girl', 0.7330242395401001),\n",
       " ('daddy', 0.7287853956222534),\n",
       " ('lady', 0.7257035970687866),\n",
       " ('guy', 0.7072787880897522),\n",
       " ('kid', 0.6824069023132324),\n",
       " ('waitress', 0.6794639825820923),\n",
       " ('gentleman', 0.6754817962646484),\n",
       " ('father', 0.6700936555862427)]"
      ]
     },
     "execution_count": 33,
     "metadata": {},
     "output_type": "execute_result"
    }
   ],
   "source": [
    "model.wv.most_similar(positive=['man'], topn=10)"
   ]
  },
  {
   "cell_type": "code",
   "execution_count": 34,
   "metadata": {
    "collapsed": false,
    "deletable": true,
    "editable": true
   },
   "outputs": [
    {
     "data": {
      "text/plain": [
       "[('man', 0.8552735447883606),\n",
       " ('girl', 0.7973693609237671),\n",
       " ('lady', 0.7647058367729187),\n",
       " ('boy', 0.7325746417045593),\n",
       " ('kid', 0.7064036130905151),\n",
       " ('gentleman', 0.7029945850372314),\n",
       " ('daddy', 0.6960808634757996),\n",
       " ('male', 0.6912606954574585),\n",
       " ('teacher', 0.6866186857223511),\n",
       " ('blonde', 0.6811333894729614)]"
      ]
     },
     "execution_count": 34,
     "metadata": {},
     "output_type": "execute_result"
    }
   ],
   "source": [
    "model.wv.most_similar(positive=['woman'], topn=10)"
   ]
  },
  {
   "cell_type": "code",
   "execution_count": 37,
   "metadata": {
    "collapsed": false,
    "deletable": true,
    "editable": true
   },
   "outputs": [
    {
     "data": {
      "text/plain": [
       "[('lady', 0.6842527389526367),\n",
       " ('boy', 0.6691719889640808),\n",
       " ('mom', 0.6354619264602661),\n",
       " ('daughter', 0.6272095441818237),\n",
       " ('baby', 0.6245521306991577),\n",
       " ('teacher', 0.6237436532974243),\n",
       " ('mother', 0.621196448802948),\n",
       " ('kid', 0.6157586574554443),\n",
       " ('grandmother', 0.5904130935668945),\n",
       " ('friend', 0.5828368663787842)]"
      ]
     },
     "execution_count": 37,
     "metadata": {},
     "output_type": "execute_result"
    }
   ],
   "source": [
    "model.wv.most_similar(positive=['woman', 'girl'], negative=['man'], topn=10)"
   ]
  },
  {
   "cell_type": "code",
   "execution_count": null,
   "metadata": {
    "collapsed": true,
    "deletable": true,
    "editable": true
   },
   "outputs": [],
   "source": []
  }
 ],
 "metadata": {
  "kernelspec": {
   "display_name": "Python 3",
   "language": "python",
   "name": "python3"
  },
  "language_info": {
   "codemirror_mode": {
    "name": "ipython",
    "version": 3
   },
   "file_extension": ".py",
   "mimetype": "text/x-python",
   "name": "python",
   "nbconvert_exporter": "python",
   "pygments_lexer": "ipython3",
   "version": "3.6.1"
  }
 },
 "nbformat": 4,
 "nbformat_minor": 2
}
