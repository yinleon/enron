{
 "cells": [
  {
   "cell_type": "code",
   "execution_count": 9,
   "metadata": {
    "collapsed": true
   },
   "outputs": [],
   "source": [
    "import os, sys, email\n",
    "import numpy as np \n",
    "import pandas as pd\n",
    "import random\n",
    "\n",
    "# Plotting\n",
    "import matplotlib.pyplot as plt\n",
    "%matplotlib inline"
   ]
  },
  {
   "cell_type": "code",
   "execution_count": 6,
   "metadata": {},
   "outputs": [],
   "source": [
    "# mv /Users/leonyin/Downloads/emails.csv data/"
   ]
  },
  {
   "cell_type": "code",
   "execution_count": 2,
   "metadata": {},
   "outputs": [],
   "source": [
    "emails_df = pd.read_csv('data/emails.csv')"
   ]
  },
  {
   "cell_type": "code",
   "execution_count": 6,
   "metadata": {},
   "outputs": [],
   "source": [
    "def get_text_from_email(msg):\n",
    "    '''To get the content from email objects'''\n",
    "    parts = []\n",
    "    for part in msg.walk():\n",
    "        if part.get_content_type() == 'text/plain':\n",
    "            parts.append( part.get_payload() )\n",
    "    return ''.join(parts)\n",
    "\n",
    "def split_email_addresses(line):\n",
    "    '''To separate multiple email addresses'''\n",
    "    if line:\n",
    "        addrs = line.split(',')\n",
    "        addrs = frozenset(map(lambda x: x.strip(), addrs))\n",
    "    else:\n",
    "        addrs = None\n",
    "    return addrs"
   ]
  },
  {
   "cell_type": "code",
   "execution_count": 10,
   "metadata": {},
   "outputs": [
    {
     "data": {
      "text/html": [
       "<div>\n",
       "<table border=\"1\" class=\"dataframe\">\n",
       "  <thead>\n",
       "    <tr style=\"text-align: right;\">\n",
       "      <th></th>\n",
       "      <th>file</th>\n",
       "      <th>Message-ID</th>\n",
       "      <th>Date</th>\n",
       "      <th>From</th>\n",
       "      <th>To</th>\n",
       "      <th>Subject</th>\n",
       "      <th>Mime-Version</th>\n",
       "      <th>Content-Type</th>\n",
       "      <th>Content-Transfer-Encoding</th>\n",
       "      <th>X-From</th>\n",
       "      <th>X-To</th>\n",
       "      <th>X-cc</th>\n",
       "      <th>X-bcc</th>\n",
       "      <th>X-Folder</th>\n",
       "      <th>X-Origin</th>\n",
       "      <th>X-FileName</th>\n",
       "      <th>content</th>\n",
       "      <th>user</th>\n",
       "    </tr>\n",
       "  </thead>\n",
       "  <tbody>\n",
       "    <tr>\n",
       "      <th>0</th>\n",
       "      <td>allen-p/_sent_mail/1.</td>\n",
       "      <td>&lt;18782981.1075855378110.JavaMail.evans@thyme&gt;</td>\n",
       "      <td>Mon, 14 May 2001 16:39:00 -0700 (PDT)</td>\n",
       "      <td>(phillip.allen@enron.com)</td>\n",
       "      <td>(tim.belden@enron.com)</td>\n",
       "      <td></td>\n",
       "      <td>1.0</td>\n",
       "      <td>text/plain; charset=us-ascii</td>\n",
       "      <td>7bit</td>\n",
       "      <td>Phillip K Allen</td>\n",
       "      <td>Tim Belden &lt;Tim Belden/Enron@EnronXGate&gt;</td>\n",
       "      <td></td>\n",
       "      <td></td>\n",
       "      <td>\\Phillip_Allen_Jan2002_1\\Allen, Phillip K.\\'Se...</td>\n",
       "      <td>Allen-P</td>\n",
       "      <td>pallen (Non-Privileged).pst</td>\n",
       "      <td>Here is our forecast\\n\\n</td>\n",
       "      <td>allen-p</td>\n",
       "    </tr>\n",
       "    <tr>\n",
       "      <th>1</th>\n",
       "      <td>allen-p/_sent_mail/10.</td>\n",
       "      <td>&lt;15464986.1075855378456.JavaMail.evans@thyme&gt;</td>\n",
       "      <td>Fri, 4 May 2001 13:51:00 -0700 (PDT)</td>\n",
       "      <td>(phillip.allen@enron.com)</td>\n",
       "      <td>(john.lavorato@enron.com)</td>\n",
       "      <td>Re:</td>\n",
       "      <td>1.0</td>\n",
       "      <td>text/plain; charset=us-ascii</td>\n",
       "      <td>7bit</td>\n",
       "      <td>Phillip K Allen</td>\n",
       "      <td>John J Lavorato &lt;John J Lavorato/ENRON@enronXg...</td>\n",
       "      <td></td>\n",
       "      <td></td>\n",
       "      <td>\\Phillip_Allen_Jan2002_1\\Allen, Phillip K.\\'Se...</td>\n",
       "      <td>Allen-P</td>\n",
       "      <td>pallen (Non-Privileged).pst</td>\n",
       "      <td>Traveling to have a business meeting takes the...</td>\n",
       "      <td>allen-p</td>\n",
       "    </tr>\n",
       "    <tr>\n",
       "      <th>2</th>\n",
       "      <td>allen-p/_sent_mail/100.</td>\n",
       "      <td>&lt;24216240.1075855687451.JavaMail.evans@thyme&gt;</td>\n",
       "      <td>Wed, 18 Oct 2000 03:00:00 -0700 (PDT)</td>\n",
       "      <td>(phillip.allen@enron.com)</td>\n",
       "      <td>(leah.arsdall@enron.com)</td>\n",
       "      <td>Re: test</td>\n",
       "      <td>1.0</td>\n",
       "      <td>text/plain; charset=us-ascii</td>\n",
       "      <td>7bit</td>\n",
       "      <td>Phillip K Allen</td>\n",
       "      <td>Leah Van Arsdall</td>\n",
       "      <td></td>\n",
       "      <td></td>\n",
       "      <td>\\Phillip_Allen_Dec2000\\Notes Folders\\'sent mail</td>\n",
       "      <td>Allen-P</td>\n",
       "      <td>pallen.nsf</td>\n",
       "      <td>test successful.  way to go!!!</td>\n",
       "      <td>allen-p</td>\n",
       "    </tr>\n",
       "    <tr>\n",
       "      <th>3</th>\n",
       "      <td>allen-p/_sent_mail/1000.</td>\n",
       "      <td>&lt;13505866.1075863688222.JavaMail.evans@thyme&gt;</td>\n",
       "      <td>Mon, 23 Oct 2000 06:13:00 -0700 (PDT)</td>\n",
       "      <td>(phillip.allen@enron.com)</td>\n",
       "      <td>(randall.gay@enron.com)</td>\n",
       "      <td></td>\n",
       "      <td>1.0</td>\n",
       "      <td>text/plain; charset=us-ascii</td>\n",
       "      <td>7bit</td>\n",
       "      <td>Phillip K Allen</td>\n",
       "      <td>Randall L Gay</td>\n",
       "      <td></td>\n",
       "      <td></td>\n",
       "      <td>\\Phillip_Allen_Dec2000\\Notes Folders\\'sent mail</td>\n",
       "      <td>Allen-P</td>\n",
       "      <td>pallen.nsf</td>\n",
       "      <td>Randy,\\n\\n Can you send me a schedule of the s...</td>\n",
       "      <td>allen-p</td>\n",
       "    </tr>\n",
       "    <tr>\n",
       "      <th>4</th>\n",
       "      <td>allen-p/_sent_mail/1001.</td>\n",
       "      <td>&lt;30922949.1075863688243.JavaMail.evans@thyme&gt;</td>\n",
       "      <td>Thu, 31 Aug 2000 05:07:00 -0700 (PDT)</td>\n",
       "      <td>(phillip.allen@enron.com)</td>\n",
       "      <td>(greg.piper@enron.com)</td>\n",
       "      <td>Re: Hello</td>\n",
       "      <td>1.0</td>\n",
       "      <td>text/plain; charset=us-ascii</td>\n",
       "      <td>7bit</td>\n",
       "      <td>Phillip K Allen</td>\n",
       "      <td>Greg Piper</td>\n",
       "      <td></td>\n",
       "      <td></td>\n",
       "      <td>\\Phillip_Allen_Dec2000\\Notes Folders\\'sent mail</td>\n",
       "      <td>Allen-P</td>\n",
       "      <td>pallen.nsf</td>\n",
       "      <td>Let's shoot for Tuesday at 11:45.</td>\n",
       "      <td>allen-p</td>\n",
       "    </tr>\n",
       "  </tbody>\n",
       "</table>\n",
       "</div>"
      ],
      "text/plain": [
       "                       file                                     Message-ID  \\\n",
       "0     allen-p/_sent_mail/1.  <18782981.1075855378110.JavaMail.evans@thyme>   \n",
       "1    allen-p/_sent_mail/10.  <15464986.1075855378456.JavaMail.evans@thyme>   \n",
       "2   allen-p/_sent_mail/100.  <24216240.1075855687451.JavaMail.evans@thyme>   \n",
       "3  allen-p/_sent_mail/1000.  <13505866.1075863688222.JavaMail.evans@thyme>   \n",
       "4  allen-p/_sent_mail/1001.  <30922949.1075863688243.JavaMail.evans@thyme>   \n",
       "\n",
       "                                    Date                       From  \\\n",
       "0  Mon, 14 May 2001 16:39:00 -0700 (PDT)  (phillip.allen@enron.com)   \n",
       "1   Fri, 4 May 2001 13:51:00 -0700 (PDT)  (phillip.allen@enron.com)   \n",
       "2  Wed, 18 Oct 2000 03:00:00 -0700 (PDT)  (phillip.allen@enron.com)   \n",
       "3  Mon, 23 Oct 2000 06:13:00 -0700 (PDT)  (phillip.allen@enron.com)   \n",
       "4  Thu, 31 Aug 2000 05:07:00 -0700 (PDT)  (phillip.allen@enron.com)   \n",
       "\n",
       "                          To    Subject Mime-Version  \\\n",
       "0     (tim.belden@enron.com)                     1.0   \n",
       "1  (john.lavorato@enron.com)        Re:          1.0   \n",
       "2   (leah.arsdall@enron.com)   Re: test          1.0   \n",
       "3    (randall.gay@enron.com)                     1.0   \n",
       "4     (greg.piper@enron.com)  Re: Hello          1.0   \n",
       "\n",
       "                   Content-Type Content-Transfer-Encoding           X-From  \\\n",
       "0  text/plain; charset=us-ascii                      7bit  Phillip K Allen   \n",
       "1  text/plain; charset=us-ascii                      7bit  Phillip K Allen   \n",
       "2  text/plain; charset=us-ascii                      7bit  Phillip K Allen   \n",
       "3  text/plain; charset=us-ascii                      7bit  Phillip K Allen   \n",
       "4  text/plain; charset=us-ascii                      7bit  Phillip K Allen   \n",
       "\n",
       "                                                X-To X-cc X-bcc  \\\n",
       "0           Tim Belden <Tim Belden/Enron@EnronXGate>              \n",
       "1  John J Lavorato <John J Lavorato/ENRON@enronXg...              \n",
       "2                                   Leah Van Arsdall              \n",
       "3                                      Randall L Gay              \n",
       "4                                         Greg Piper              \n",
       "\n",
       "                                            X-Folder X-Origin  \\\n",
       "0  \\Phillip_Allen_Jan2002_1\\Allen, Phillip K.\\'Se...  Allen-P   \n",
       "1  \\Phillip_Allen_Jan2002_1\\Allen, Phillip K.\\'Se...  Allen-P   \n",
       "2    \\Phillip_Allen_Dec2000\\Notes Folders\\'sent mail  Allen-P   \n",
       "3    \\Phillip_Allen_Dec2000\\Notes Folders\\'sent mail  Allen-P   \n",
       "4    \\Phillip_Allen_Dec2000\\Notes Folders\\'sent mail  Allen-P   \n",
       "\n",
       "                    X-FileName  \\\n",
       "0  pallen (Non-Privileged).pst   \n",
       "1  pallen (Non-Privileged).pst   \n",
       "2                   pallen.nsf   \n",
       "3                   pallen.nsf   \n",
       "4                   pallen.nsf   \n",
       "\n",
       "                                             content     user  \n",
       "0                          Here is our forecast\\n\\n   allen-p  \n",
       "1  Traveling to have a business meeting takes the...  allen-p  \n",
       "2                     test successful.  way to go!!!  allen-p  \n",
       "3  Randy,\\n\\n Can you send me a schedule of the s...  allen-p  \n",
       "4                Let's shoot for Tuesday at 11:45.    allen-p  "
      ]
     },
     "execution_count": 10,
     "metadata": {},
     "output_type": "execute_result"
    }
   ],
   "source": [
    "# Parse the emails into a list email objects\n",
    "messages = list(map(email.message_from_string, emails_df['message']))\n",
    "emails_df.drop('message', axis=1, inplace=True)\n",
    "# Get fields from parsed email objects\n",
    "keys = messages[0].keys()\n",
    "for key in keys:\n",
    "    emails_df[key] = [doc[key] for doc in messages]\n",
    "# Parse content from emails\n",
    "emails_df['content'] = list(map(get_text_from_email, messages))\n",
    "# Split multiple email addresses\n",
    "emails_df['From'] = emails_df['From'].map(split_email_addresses)\n",
    "emails_df['To'] = emails_df['To'].map(split_email_addresses)\n",
    "\n",
    "# Extract the root of 'file' as 'user'\n",
    "emails_df['user'] = emails_df['file'].map(lambda x:x.split('/')[0])\n",
    "del messages\n",
    "\n",
    "emails_df.head()"
   ]
  },
  {
   "cell_type": "code",
   "execution_count": 11,
   "metadata": {},
   "outputs": [
    {
     "data": {
      "text/plain": [
       "517401"
      ]
     },
     "execution_count": 11,
     "metadata": {},
     "output_type": "execute_result"
    }
   ],
   "source": [
    "len(emails_df)"
   ]
  },
  {
   "cell_type": "code",
   "execution_count": 13,
   "metadata": {
    "collapsed": true
   },
   "outputs": [],
   "source": [
    "emails_df.to_csv('data/emails_clean.tsv.gz', index=False, sep='\\t', compression='gzip')"
   ]
  },
  {
   "cell_type": "code",
   "execution_count": 119,
   "metadata": {},
   "outputs": [
    {
     "data": {
      "text/plain": [
       "frozenset({'tim.belden@enron.com'})"
      ]
     },
     "execution_count": 119,
     "metadata": {},
     "output_type": "execute_result"
    }
   ],
   "source": [
    "emails_df['To'].iloc[0]"
   ]
  },
  {
   "cell_type": "code",
   "execution_count": 22,
   "metadata": {},
   "outputs": [],
   "source": [
    "gold_df = emails_df[emails_df['content'].str.contains('golf', case=False)]"
   ]
  },
  {
   "cell_type": "code",
   "execution_count": 31,
   "metadata": {},
   "outputs": [
    {
     "name": "stdout",
     "output_type": "stream",
     "text": [
      "[IMAGE]\n",
      "Yahoo! sent this email to you because your Yahoo! Account Information =20\n",
      "indicated that you wish to receive special offers. If you do not want to=20\n",
      "receive further mailings  from Yahoo! Delivers, unsubscribe now by  clickin=\n",
      "g=20\n",
      "here. You are subscribed at: pallen@ect.enron.com\n",
      "\n",
      "masthead=09 Yahoo!=20\n",
      "=09\n",
      "=09\n",
      "\n",
      "\n",
      "\n",
      "May 2001\n",
      "\n",
      "\n",
      "Greetings! Here's a look at some of the things happening on Yahoo! in May:\n",
      "\n",
      "\n",
      "\n",
      "\n",
      "\n",
      "\n",
      "\n",
      "New Features & Services\n",
      "\n",
      "\n",
      "[IMAGE]\n",
      "Find Last Minute Mother's Day Gifts  -  Don't panic if you haven't found th=\n",
      "e=20\n",
      "perfect gift for Mom. Visit the Last Minute Mother's Day Gift Center on=20\n",
      "Yahoo! Shopping. You'll find outstanding merchants and guaranteed delivery =\n",
      "in=20\n",
      "time for Mom's special day.\n",
      "[IMAGE]\n",
      "Got Stuff to Sell? It's a Great Time to Try Auctions  - Every time you=20\n",
      "successfully sell an item on Yahoo! Auctions between now and June 4, you'll=\n",
      "=20\n",
      "be entered in the Yahoo! Auctions $2 Million Sweepstakes for a chance to wi=\n",
      "n=20\n",
      "one of twenty $100,000 prize packages for your business. =20\n",
      "\n",
      "Each prize package includes:\n",
      "=0F=07?a link on Yahoo!'s front page to your business's auctions\n",
      "=0F=07?a Yahoo! digital camera, mouse, and keyboard=20\n",
      "=0F=07?$85,000 in online advertising across Yahoo!\n",
      "=0F=07?a free Yahoo! Store for six months\n",
      "=0F=07?a one-year registration of your business's domain name\n",
      "\n",
      "Just list and sell for your chance to win. Please see the  official rules f=\n",
      "or=20\n",
      "full sweepstakes details and the seller tips page for more about auction=20\n",
      "selling.=20\n",
      "\n",
      "\n",
      "\n",
      "Spotlight: Real-Time Quotes\n",
      "\n",
      "[IMAGE]=20\n",
      " Make better investment decisions in today's volatile market. Subscribe to=\n",
      "=20\n",
      "the Yahoo! Real-Time Package  for $9.95/month and you'll receive real-time=\n",
      "=20\n",
      "quotes, breaking news, and live market coverage. Use the MarketTracker to=\n",
      "=20\n",
      "monitor your portfolio -- this powerful tool streams continuous market=20\n",
      "updates live to your desktop. You can easily access these real-time feature=\n",
      "s=20\n",
      "through Yahoo! Finance, My Yahoo!, or via your mobile phone, pager, or PDA.=\n",
      "=20\n",
      "\n",
      "\n",
      "\n",
      "\n",
      "Let's Talk About...\n",
      "[IMAGE]\n",
      "Safe Surfing for the Whole Family  - Yahooligans! is  Yahoo!'s web guide fo=\n",
      "r=20\n",
      "kids, a directory of kid-appropriate sites  screened by a staff of=20\n",
      "experienced educators. =20\n",
      "\n",
      "Kids can have fun with daily jokes, news stories, online games, and  Ask=20\n",
      "Earl. Check out the Parents' Guide  for  tips on how your family can use=20\n",
      "Yahooligans! and the Internet.   =20\n",
      "\n",
      "Yahooligans! Messenger is a   safe way for kids to chat online in real time=\n",
      "=20\n",
      "with their friends.  On Yahooligans! Messenger,  only  people on your child=\n",
      "'s=20\n",
      "\"Friends\" list can send messages.  This means that you  don't have to worry=\n",
      "=20\n",
      "about who might be trying to contact your child.=20\n",
      "=09?=09\n",
      "=09=09\n",
      "=09=09Short Takes\n",
      "=09=09\n",
      "=09=09\n",
      "=09=09=0F=07\n",
      "=09=09Mother's Day Greetings - send your mom an online card this May 13. Do=\n",
      "n't=20\n",
      "forget!\n",
      "=09=09=0F=07\n",
      "=09=09Golf Handicap Tracker - track your golf game this summer.  It's free =\n",
      "from=20\n",
      "Yahoo! Sports.\n",
      "=09=09=0F=07\n",
      "=09=09Buzz Index in My Yahoo! - the newest module on My Yahoo! presents a d=\n",
      "aily=20\n",
      "look at what's hot in television, movies, music, sports. Follow the movers=\n",
      "=20\n",
      "and leaders on your personalized Yahoo! page.\n",
      "=09=09?\n",
      "=09=09\n",
      "=09=09\n",
      "=09=09\n",
      "=09=09Tips & Tricks\n",
      "=09=09\n",
      "=09=09\n",
      "=09=09\n",
      "=09=09Stay Alert: Yahoo! Alerts provide the information that's essential to=\n",
      " you,=20\n",
      "delivered right to your email, Yahoo! Messenger, or mobile device. Set up=\n",
      "=20\n",
      "alerts for news, stock quotes, auction updates, sports scores, and more.\n",
      "=09=09\n",
      "=09=09Stay  Informed: View the most-frequently emailed photos and stories f=\n",
      "rom the=20\n",
      "last six hours of Yahoo! News. Looking for something more offbeat? Don't mi=\n",
      "ss=20\n",
      "Full Coverage: FYI.\n",
      "=09=09\n",
      "=09=09Stay Cool: Weather forecasts for your area -- on My Yahoo!, in email,=\n",
      " or on=20\n",
      "your mobile device.\n",
      "=09=09\n",
      "=09=09\n",
      "=09=09Further Reading\n",
      "=09=09\n",
      "=09=09\n",
      "=09=09=0F=07\n",
      "=09=09Help Central\n",
      "=09=09=0F=07\n",
      "=09=09More Yahoo!\n",
      "=09=09=0F=07\n",
      "=09=09What's New on the Web\n",
      "=09=09=0F=07\n",
      "=09=09Privacy Center\n",
      "=09=09[IMAGE]\n",
      "\n",
      "\n",
      "Copyright , 2001 Yahoo! Inc.\n",
      " Yahoo! tries to send you the most relevant offers based on your Yahoo!=20\n",
      "Account Information, interests, and what you use on Yahoo!. Yahoo! uses web=\n",
      "=20\n",
      "beacons in HTML-based email, including in Yahoo! Delivers messages.?To lear=\n",
      "n=20\n",
      "more about Yahoo!'s use of personal information please read our Privacy=20\n",
      "Policy. If you have previously unsubscribed from Yahoo! Delivers, but have=\n",
      "=20\n",
      "received this mailing, please note that it takes approximately five busines=\n",
      "s=20\n",
      "days to process your request. For further assistance with unsubscribing, yo=\n",
      "u=20\n",
      "may contact a Yahoo! Delivers representative by email by clicking here.\n"
     ]
    }
   ],
   "source": [
    "print(gold_df['content'].iloc[5])"
   ]
  },
  {
   "cell_type": "code",
   "execution_count": 116,
   "metadata": {
    "scrolled": true
   },
   "outputs": [
    {
     "ename": "KeyError",
     "evalue": "'[ nan  nan  nan ...,  nan  nan  nan] not in index'",
     "output_type": "error",
     "traceback": [
      "\u001b[0;31m---------------------------------------------------------------------------\u001b[0m",
      "\u001b[0;31mKeyError\u001b[0m                                  Traceback (most recent call last)",
      "\u001b[0;32m<ipython-input-116-1c75059060e6>\u001b[0m in \u001b[0;36m<module>\u001b[0;34m()\u001b[0m\n\u001b[0;32m----> 1\u001b[0;31m \u001b[0memails_df\u001b[0m\u001b[0;34m[\u001b[0m\u001b[0memails_df\u001b[0m\u001b[0;34m[\u001b[0m\u001b[0;34m'To'\u001b[0m\u001b[0;34m]\u001b[0m\u001b[0;34m.\u001b[0m\u001b[0mstr\u001b[0m\u001b[0;34m.\u001b[0m\u001b[0mcontains\u001b[0m\u001b[0;34m(\u001b[0m\u001b[0;34m'enron'\u001b[0m\u001b[0;34m,\u001b[0m \u001b[0mcase\u001b[0m\u001b[0;34m=\u001b[0m\u001b[0mFalse\u001b[0m\u001b[0;34m)\u001b[0m\u001b[0;34m]\u001b[0m\u001b[0;34m\u001b[0m\u001b[0m\n\u001b[0m",
      "\u001b[0;32m/usr/local/lib/python2.7/site-packages/pandas/core/frame.pyc\u001b[0m in \u001b[0;36m__getitem__\u001b[0;34m(self, key)\u001b[0m\n\u001b[1;32m   2051\u001b[0m         \u001b[0;32mif\u001b[0m \u001b[0misinstance\u001b[0m\u001b[0;34m(\u001b[0m\u001b[0mkey\u001b[0m\u001b[0;34m,\u001b[0m \u001b[0;34m(\u001b[0m\u001b[0mSeries\u001b[0m\u001b[0;34m,\u001b[0m \u001b[0mnp\u001b[0m\u001b[0;34m.\u001b[0m\u001b[0mndarray\u001b[0m\u001b[0;34m,\u001b[0m \u001b[0mIndex\u001b[0m\u001b[0;34m,\u001b[0m \u001b[0mlist\u001b[0m\u001b[0;34m)\u001b[0m\u001b[0;34m)\u001b[0m\u001b[0;34m:\u001b[0m\u001b[0;34m\u001b[0m\u001b[0m\n\u001b[1;32m   2052\u001b[0m             \u001b[0;31m# either boolean or fancy integer index\u001b[0m\u001b[0;34m\u001b[0m\u001b[0;34m\u001b[0m\u001b[0m\n\u001b[0;32m-> 2053\u001b[0;31m             \u001b[0;32mreturn\u001b[0m \u001b[0mself\u001b[0m\u001b[0;34m.\u001b[0m\u001b[0m_getitem_array\u001b[0m\u001b[0;34m(\u001b[0m\u001b[0mkey\u001b[0m\u001b[0;34m)\u001b[0m\u001b[0;34m\u001b[0m\u001b[0m\n\u001b[0m\u001b[1;32m   2054\u001b[0m         \u001b[0;32melif\u001b[0m \u001b[0misinstance\u001b[0m\u001b[0;34m(\u001b[0m\u001b[0mkey\u001b[0m\u001b[0;34m,\u001b[0m \u001b[0mDataFrame\u001b[0m\u001b[0;34m)\u001b[0m\u001b[0;34m:\u001b[0m\u001b[0;34m\u001b[0m\u001b[0m\n\u001b[1;32m   2055\u001b[0m             \u001b[0;32mreturn\u001b[0m \u001b[0mself\u001b[0m\u001b[0;34m.\u001b[0m\u001b[0m_getitem_frame\u001b[0m\u001b[0;34m(\u001b[0m\u001b[0mkey\u001b[0m\u001b[0;34m)\u001b[0m\u001b[0;34m\u001b[0m\u001b[0m\n",
      "\u001b[0;32m/usr/local/lib/python2.7/site-packages/pandas/core/frame.pyc\u001b[0m in \u001b[0;36m_getitem_array\u001b[0;34m(self, key)\u001b[0m\n\u001b[1;32m   2095\u001b[0m             \u001b[0;32mreturn\u001b[0m \u001b[0mself\u001b[0m\u001b[0;34m.\u001b[0m\u001b[0mtake\u001b[0m\u001b[0;34m(\u001b[0m\u001b[0mindexer\u001b[0m\u001b[0;34m,\u001b[0m \u001b[0maxis\u001b[0m\u001b[0;34m=\u001b[0m\u001b[0;36m0\u001b[0m\u001b[0;34m,\u001b[0m \u001b[0mconvert\u001b[0m\u001b[0;34m=\u001b[0m\u001b[0mFalse\u001b[0m\u001b[0;34m)\u001b[0m\u001b[0;34m\u001b[0m\u001b[0m\n\u001b[1;32m   2096\u001b[0m         \u001b[0;32melse\u001b[0m\u001b[0;34m:\u001b[0m\u001b[0;34m\u001b[0m\u001b[0m\n\u001b[0;32m-> 2097\u001b[0;31m             \u001b[0mindexer\u001b[0m \u001b[0;34m=\u001b[0m \u001b[0mself\u001b[0m\u001b[0;34m.\u001b[0m\u001b[0mix\u001b[0m\u001b[0;34m.\u001b[0m\u001b[0m_convert_to_indexer\u001b[0m\u001b[0;34m(\u001b[0m\u001b[0mkey\u001b[0m\u001b[0;34m,\u001b[0m \u001b[0maxis\u001b[0m\u001b[0;34m=\u001b[0m\u001b[0;36m1\u001b[0m\u001b[0;34m)\u001b[0m\u001b[0;34m\u001b[0m\u001b[0m\n\u001b[0m\u001b[1;32m   2098\u001b[0m             \u001b[0;32mreturn\u001b[0m \u001b[0mself\u001b[0m\u001b[0;34m.\u001b[0m\u001b[0mtake\u001b[0m\u001b[0;34m(\u001b[0m\u001b[0mindexer\u001b[0m\u001b[0;34m,\u001b[0m \u001b[0maxis\u001b[0m\u001b[0;34m=\u001b[0m\u001b[0;36m1\u001b[0m\u001b[0;34m,\u001b[0m \u001b[0mconvert\u001b[0m\u001b[0;34m=\u001b[0m\u001b[0mTrue\u001b[0m\u001b[0;34m)\u001b[0m\u001b[0;34m\u001b[0m\u001b[0m\n\u001b[1;32m   2099\u001b[0m \u001b[0;34m\u001b[0m\u001b[0m\n",
      "\u001b[0;32m/usr/local/lib/python2.7/site-packages/pandas/core/indexing.pyc\u001b[0m in \u001b[0;36m_convert_to_indexer\u001b[0;34m(self, obj, axis, is_setter)\u001b[0m\n\u001b[1;32m   1228\u001b[0m                 \u001b[0mmask\u001b[0m \u001b[0;34m=\u001b[0m \u001b[0mcheck\u001b[0m \u001b[0;34m==\u001b[0m \u001b[0;34m-\u001b[0m\u001b[0;36m1\u001b[0m\u001b[0;34m\u001b[0m\u001b[0m\n\u001b[1;32m   1229\u001b[0m                 \u001b[0;32mif\u001b[0m \u001b[0mmask\u001b[0m\u001b[0;34m.\u001b[0m\u001b[0many\u001b[0m\u001b[0;34m(\u001b[0m\u001b[0;34m)\u001b[0m\u001b[0;34m:\u001b[0m\u001b[0;34m\u001b[0m\u001b[0m\n\u001b[0;32m-> 1230\u001b[0;31m                     \u001b[0;32mraise\u001b[0m \u001b[0mKeyError\u001b[0m\u001b[0;34m(\u001b[0m\u001b[0;34m'%s not in index'\u001b[0m \u001b[0;34m%\u001b[0m \u001b[0mobjarr\u001b[0m\u001b[0;34m[\u001b[0m\u001b[0mmask\u001b[0m\u001b[0;34m]\u001b[0m\u001b[0;34m)\u001b[0m\u001b[0;34m\u001b[0m\u001b[0m\n\u001b[0m\u001b[1;32m   1231\u001b[0m \u001b[0;34m\u001b[0m\u001b[0m\n\u001b[1;32m   1232\u001b[0m                 \u001b[0;32mreturn\u001b[0m \u001b[0m_values_from_object\u001b[0m\u001b[0;34m(\u001b[0m\u001b[0mindexer\u001b[0m\u001b[0;34m)\u001b[0m\u001b[0;34m\u001b[0m\u001b[0m\n",
      "\u001b[0;31mKeyError\u001b[0m: '[ nan  nan  nan ...,  nan  nan  nan] not in index'"
     ]
    }
   ],
   "source": [
    "emails_df[emails_df['To'].str.contains('enron', case=False)]"
   ]
  },
  {
   "cell_type": "code",
   "execution_count": 12,
   "metadata": {},
   "outputs": [],
   "source": [
    "import spacy"
   ]
  },
  {
   "cell_type": "code",
   "execution_count": 13,
   "metadata": {},
   "outputs": [],
   "source": [
    "nlp = spacy.load('en')"
   ]
  },
  {
   "cell_type": "code",
   "execution_count": 14,
   "metadata": {},
   "outputs": [
    {
     "name": "stdout",
     "output_type": "stream",
     "text": [
      "Reagan,\n",
      "\n",
      "Thank you for the quick response on the bid for the residence.  Below is a \n",
      "list of questions on the specs:\n",
      "\n",
      "1.  Is the framing Lumber #2 yellow pine?  Wouldn't fir or spruce warp less \n",
      "and cost about the same?\n",
      "\n",
      "2.  What type of floor joist would be used?  2x12 or some sort of factory \n",
      "joist?\n",
      "\n",
      "3.  What type for roof framing?  On site built rafters? or engineered trusses?\n",
      "\n",
      "4.  Are you planning for insulation between floors to dampen sound?  What \n",
      "type of insulation in floors and ceiling?  Batts or blown?  Fiberglass or \n",
      "Cellulose?\n",
      "\n",
      "5.  Any ridge venting or other vents (power or turbine)?\n",
      "\n",
      "6. Did you bid for interior windows to have trim on 4 sides?  I didn't know \n",
      "the difference between an apron and a stool.\n",
      "\n",
      "7.  Do you do anything special under the upstairs tile floors to prevent \n",
      "cracking?  Double plywood or hardi board underlay?\n",
      "\n",
      "8.  On the stairs, did you allow for a bannister?  I was thinking a partial \n",
      "one out of iron.  Only about 5 feet.\n",
      "\n",
      "9.  I did not label it on the plan, but I was intending for a 1/2 bath under \n",
      "the stairs. A pedestal sink would probably work.\n",
      "\n",
      "10.  Are undermount sinks different than drop ins?  I was thinking undermount \n",
      "stainless in kitchen and undermount cast iron in baths.\n",
      "\n",
      "11.  1 or 2 A/C units?  I am assuming 2.\n",
      "\n",
      "12.  Prewired for sound indoors and outdoors?\n",
      "\n",
      "13.  No door and drawer pulls on any cabinets or just bath cabinets?\n",
      "\n",
      "14.  Exterior porches included in bid?  Cedar decking on upstairs?  Iron \n",
      "railings?\n",
      "\n",
      "15.  What type of construction contract would you use?  Fixed price except \n",
      "for change orders?\n",
      "\n",
      "I want to get painfully detailed with the specs before I make a decision but \n",
      "this is a start.  I think I am ready to get plans drawn up.  I am going to \n",
      "call Cary Kipp to\n",
      "see about setting up a design meeting to see if I like his ideas.\n",
      "\n",
      "Phillip\n",
      "I\n",
      "\n",
      " \n"
     ]
    }
   ],
   "source": [
    "print(emails_df['content'].iloc[973])"
   ]
  },
  {
   "cell_type": "code",
   "execution_count": null,
   "metadata": {
    "collapsed": true
   },
   "outputs": [],
   "source": []
  },
  {
   "cell_type": "code",
   "execution_count": null,
   "metadata": {
    "collapsed": true
   },
   "outputs": [],
   "source": []
  },
  {
   "cell_type": "code",
   "execution_count": null,
   "metadata": {
    "collapsed": true
   },
   "outputs": [],
   "source": []
  },
  {
   "cell_type": "code",
   "execution_count": null,
   "metadata": {
    "collapsed": true
   },
   "outputs": [],
   "source": []
  },
  {
   "cell_type": "code",
   "execution_count": null,
   "metadata": {
    "collapsed": true
   },
   "outputs": [],
   "source": []
  },
  {
   "cell_type": "code",
   "execution_count": 15,
   "metadata": {},
   "outputs": [],
   "source": [
    "doc = nlp(emails_df['content'].iloc[3].decode(encoding='utf-8', errors='strict'))"
   ]
  },
  {
   "cell_type": "code",
   "execution_count": 19,
   "metadata": {},
   "outputs": [
    {
     "data": {
      "text/plain": [
       "Randy,\n",
       "\n",
       " Can you send me a schedule of the salary and level of everyone in the \n",
       "scheduling group.  Plus your thoughts on any changes that need to be made.  \n",
       "(Patti S for example)\n",
       "\n",
       "Phillip"
      ]
     },
     "execution_count": 19,
     "metadata": {},
     "output_type": "execute_result"
    }
   ],
   "source": [
    "doc"
   ]
  },
  {
   "cell_type": "code",
   "execution_count": 16,
   "metadata": {},
   "outputs": [
    {
     "data": {
      "text/plain": [
       "(Randy, Patti S, Phillip)"
      ]
     },
     "execution_count": 16,
     "metadata": {},
     "output_type": "execute_result"
    }
   ],
   "source": [
    "doc.ents"
   ]
  },
  {
   "cell_type": "code",
   "execution_count": 17,
   "metadata": {},
   "outputs": [
    {
     "data": {
      "text/plain": [
       "[u'PROPN',\n",
       " u'PUNCT',\n",
       " u'SPACE',\n",
       " u'VERB',\n",
       " u'PRON',\n",
       " u'VERB',\n",
       " u'PRON',\n",
       " u'DET',\n",
       " u'NOUN',\n",
       " u'ADP',\n",
       " u'DET',\n",
       " u'NOUN',\n",
       " u'CCONJ',\n",
       " u'NOUN',\n",
       " u'ADP',\n",
       " u'NOUN',\n",
       " u'ADP',\n",
       " u'DET',\n",
       " u'SPACE',\n",
       " u'NOUN',\n",
       " u'NOUN',\n",
       " u'PUNCT',\n",
       " u'SPACE',\n",
       " u'CCONJ',\n",
       " u'ADJ',\n",
       " u'NOUN',\n",
       " u'ADP',\n",
       " u'DET',\n",
       " u'NOUN',\n",
       " u'ADJ',\n",
       " u'VERB',\n",
       " u'PART',\n",
       " u'VERB',\n",
       " u'VERB',\n",
       " u'PUNCT',\n",
       " u'SPACE',\n",
       " u'PUNCT',\n",
       " u'PROPN',\n",
       " u'PROPN',\n",
       " u'ADP',\n",
       " u'NOUN',\n",
       " u'PUNCT',\n",
       " u'SPACE',\n",
       " u'PROPN']"
      ]
     },
     "execution_count": 17,
     "metadata": {},
     "output_type": "execute_result"
    }
   ],
   "source": [
    "[_.pos_ for _ in doc]"
   ]
  },
  {
   "cell_type": "code",
   "execution_count": 20,
   "metadata": {},
   "outputs": [
    {
     "data": {
      "text/plain": [
       "[u'PERSON',\n",
       " u'',\n",
       " u'',\n",
       " u'',\n",
       " u'',\n",
       " u'',\n",
       " u'',\n",
       " u'',\n",
       " u'',\n",
       " u'',\n",
       " u'',\n",
       " u'',\n",
       " u'',\n",
       " u'',\n",
       " u'',\n",
       " u'',\n",
       " u'',\n",
       " u'',\n",
       " u'',\n",
       " u'',\n",
       " u'',\n",
       " u'',\n",
       " u'',\n",
       " u'',\n",
       " u'',\n",
       " u'',\n",
       " u'',\n",
       " u'',\n",
       " u'',\n",
       " u'',\n",
       " u'',\n",
       " u'',\n",
       " u'',\n",
       " u'',\n",
       " u'',\n",
       " u'',\n",
       " u'',\n",
       " u'PERSON',\n",
       " u'PERSON',\n",
       " u'',\n",
       " u'',\n",
       " u'',\n",
       " u'',\n",
       " u'PERSON']"
      ]
     },
     "execution_count": 20,
     "metadata": {},
     "output_type": "execute_result"
    }
   ],
   "source": [
    "[_.ent_type_ for _ in doc]"
   ]
  },
  {
   "cell_type": "code",
   "execution_count": 85,
   "metadata": {},
   "outputs": [
    {
     "data": {
      "text/plain": [
       "[u'PRP', u'VBZ', u'VBG', u'.']"
      ]
     },
     "execution_count": 85,
     "metadata": {},
     "output_type": "execute_result"
    }
   ],
   "source": [
    "[_.tag_ for _ in nlp(u\"She is speaking.\")]"
   ]
  },
  {
   "cell_type": "code",
   "execution_count": 88,
   "metadata": {},
   "outputs": [
    {
     "data": {
      "text/plain": [
       "[u'DT', u'NN', u'VBZ', u'PRP$', u'.']"
      ]
     },
     "execution_count": 88,
     "metadata": {},
     "output_type": "execute_result"
    }
   ],
   "source": [
    "[_.tag_ for _ in nlp(u\"The backpack is his.\")]"
   ]
  },
  {
   "cell_type": "code",
   "execution_count": 89,
   "metadata": {
    "collapsed": true
   },
   "outputs": [],
   "source": [
    "gender_neutral = {\n",
    "    'PRF' : 'Hirself/Zirself',\n",
    "    'WP$': 'Hirs/Zirs',\n",
    "    'PRP$' : 'Hirs/Zirs',\n",
    "    'PRP' : 'Ze'\n",
    "}"
   ]
  },
  {
   "cell_type": "code",
   "execution_count": 76,
   "metadata": {
    "scrolled": true
   },
   "outputs": [
    {
     "name": "stdout",
     "output_type": "stream",
     "text": [
      "(u'Randy', u'NNP')\n",
      "(u',', u',')\n",
      "(u'\\n\\n ', u'SP')\n",
      "(u'Can', u'MD')\n",
      "(u'you', u'PRP')\n",
      "(u'send', u'VB')\n",
      "(u'me', u'PRP')\n",
      "(u'a', u'DT')\n",
      "(u'schedule', u'NN')\n",
      "(u'of', u'IN')\n",
      "(u'the', u'DT')\n",
      "(u'salary', u'NN')\n",
      "(u'and', u'CC')\n",
      "(u'level', u'NN')\n",
      "(u'of', u'IN')\n",
      "(u'everyone', u'NN')\n",
      "(u'in', u'IN')\n",
      "(u'the', u'DT')\n",
      "(u'\\n', u'SP')\n",
      "(u'scheduling', u'NN')\n",
      "(u'group', u'NN')\n",
      "(u'.', u'.')\n",
      "(u' ', u'SP')\n",
      "(u'Plus', u'CC')\n",
      "(u'your', u'PRP$')\n",
      "(u'thoughts', u'NNS')\n",
      "(u'on', u'IN')\n",
      "(u'any', u'DT')\n",
      "(u'changes', u'NNS')\n",
      "(u'that', u'WDT')\n",
      "(u'need', u'VBP')\n",
      "(u'to', u'TO')\n",
      "(u'be', u'VB')\n",
      "(u'made', u'VBN')\n",
      "(u'.', u'.')\n",
      "(u' \\n', u'SP')\n",
      "(u'(', u'-LRB-')\n",
      "(u'Patti', u'NNP')\n",
      "(u'S', u'NNP')\n",
      "(u'for', u'IN')\n",
      "(u'example', u'NN')\n",
      "(u')', u'-RRB-')\n",
      "(u'\\n\\n', u'SP')\n",
      "(u'Phillip', u'NNP')\n"
     ]
    }
   ],
   "source": [
    "for word in doc:\n",
    "    print(word.text, word.tag_)"
   ]
  },
  {
   "cell_type": "code",
   "execution_count": 75,
   "metadata": {},
   "outputs": [
    {
     "name": "stdout",
     "output_type": "stream",
     "text": [
      "(u'Randy', 283848, u'randy', 475, u'NNP', 94, u'PROPN')\n",
      "(u',', 450, u',', 450, u',', 95, u'PUNCT')\n",
      "(u'\\n\\n ', 2446, u'\\n\\n ', 485, u'SP', 101, u'SPACE')\n",
      "(u'Can', 586, u'can', 471, u'MD', 98, u'VERB')\n",
      "(u'you', 757862, u'-PRON-', 479, u'PRP', 93, u'PRON')\n",
      "(u'send', 1919, u'send', 488, u'VB', 98, u'VERB')\n",
      "(u'me', 757862, u'-PRON-', 479, u'PRP', 93, u'PRON')\n",
      "(u'a', 506, u'a', 460, u'DT', 88, u'DET')\n",
      "(u'schedule', 7517, u'schedule', 474, u'NN', 90, u'NOUN')\n",
      "(u'of', 510, u'of', 466, u'IN', 83, u'ADP')\n",
      "(u'the', 501, u'the', 460, u'DT', 88, u'DET')\n",
      "(u'salary', 4289, u'salary', 474, u'NN', 90, u'NOUN')\n",
      "(u'and', 512, u'and', 458, u'CC', 87, u'CCONJ')\n",
      "(u'level', 1203, u'level', 474, u'NN', 90, u'NOUN')\n",
      "(u'of', 510, u'of', 466, u'IN', 83, u'ADP')\n",
      "(u'everyone', 930, u'everyone', 474, u'NN', 90, u'NOUN')\n",
      "(u'in', 522, u'in', 466, u'IN', 83, u'ADP')\n",
      "(u'the', 501, u'the', 460, u'DT', 88, u'DET')\n",
      "(u'\\n', 518, u'\\n', 485, u'SP', 101, u'SPACE')\n",
      "(u'scheduling', 92101, u'scheduling', 474, u'NN', 90, u'NOUN')\n",
      "(u'group', 1305, u'group', 474, u'NN', 90, u'NOUN')\n",
      "(u'.', 453, u'.', 453, u'.', 95, u'PUNCT')\n",
      "(u' ', 523, u' ', 485, u'SP', 101, u'SPACE')\n",
      "(u'Plus', 2834, u'plus', 458, u'CC', 87, u'CCONJ')\n",
      "(u'your', 757862, u'-PRON-', 480, u'PRP$', 82, u'ADJ')\n",
      "(u'thoughts', 834, u'thought', 477, u'NNS', 90, u'NOUN')\n",
      "(u'on', 542, u'on', 466, u'IN', 83, u'ADP')\n",
      "(u'any', 661, u'any', 460, u'DT', 88, u'DET')\n",
      "(u'changes', 972, u'change', 477, u'NNS', 90, u'NOUN')\n",
      "(u'that', 514, u'that', 494, u'WDT', 82, u'ADJ')\n",
      "(u'need', 646847, u'ne', 492, u'VBP', 98, u'VERB')\n",
      "(u'to', 504, u'to', 486, u'TO', 92, u'PART')\n",
      "(u'be', 536, u'be', 488, u'VB', 98, u'VERB')\n",
      "(u'made', 664, u'make', 491, u'VBN', 98, u'VERB')\n",
      "(u'.', 453, u'.', 453, u'.', 95, u'PUNCT')\n",
      "(u' \\n', 1744, u' \\n', 485, u'SP', 101, u'SPACE')\n",
      "(u'(', 562, u'(', 451, u'-LRB-', 95, u'PUNCT')\n",
      "(u'Patti', 294457, u'patti', 475, u'NNP', 94, u'PROPN')\n",
      "(u'S', 600, u's', 475, u'NNP', 94, u'PROPN')\n",
      "(u'for', 531, u'for', 466, u'IN', 83, u'ADP')\n",
      "(u'example', 1089, u'example', 474, u'NN', 90, u'NOUN')\n",
      "(u')', 547, u')', 452, u'-RRB-', 95, u'PUNCT')\n",
      "(u'\\n\\n', 517, u'\\n\\n', 485, u'SP', 101, u'SPACE')\n",
      "(u'Phillip', 563934, u'phillip', 475, u'NNP', 94, u'PROPN')\n"
     ]
    }
   ],
   "source": [
    "for word in doc:\n",
    "    print(word.text, word.lemma, word.lemma_, word.tag, word.tag_, word.pos, word.pos_)"
   ]
  },
  {
   "cell_type": "code",
   "execution_count": 54,
   "metadata": {},
   "outputs": [],
   "source": [
    "propn_idx = [i for i, _ in enumerate(doc) if _.pos_ == u'PROPN']"
   ]
  },
  {
   "cell_type": "code",
   "execution_count": 71,
   "metadata": {
    "collapsed": true
   },
   "outputs": [],
   "source": [
    "people_names = [\n",
    "    'Brooklyn',\n",
    "    'Chastity',\n",
    "    'Lil B',\n",
    "    'Pauly'\n",
    "]"
   ]
  },
  {
   "cell_type": "code",
   "execution_count": null,
   "metadata": {
    "collapsed": true
   },
   "outputs": [],
   "source": [
    "common_fuck_ups = {\n",
    "    'girl' : 'person',\n",
    "    'girls' : 'people',\n",
    "    'boy' : 'child',\n",
    "    'boys' : 'children',\n",
    "    'man': 'he/his/'\n",
    "}"
   ]
  },
  {
   "cell_type": "code",
   "execution_count": null,
   "metadata": {
    "collapsed": true
   },
   "outputs": [],
   "source": [
    "for word in doc:\n",
    "    print(word.text, word.lemma, word.lemma_, word.tag, word.tag_, word.pos, word.pos_)"
   ]
  },
  {
   "cell_type": "code",
   "execution_count": 92,
   "metadata": {},
   "outputs": [
    {
     "name": "stdout",
     "output_type": "stream",
     "text": [
      "Pauly\n",
      ",\n",
      "\n",
      "\n",
      " \n",
      "Can\n",
      "you\n",
      "send\n",
      "me\n",
      "a\n",
      "schedule\n",
      "of\n",
      "the\n",
      "salary\n",
      "and\n",
      "level\n",
      "of\n",
      "everyone\n",
      "in\n",
      "the\n",
      "\n",
      "\n",
      "scheduling\n",
      "group\n",
      ".\n",
      " \n",
      "Plus\n",
      "your\n",
      "thoughts\n",
      "on\n",
      "any\n",
      "changes\n",
      "that\n",
      "need\n",
      "to\n",
      "be\n",
      "made\n",
      ".\n",
      " \n",
      "\n",
      "(\n",
      "Lil B\n",
      "Pauly\n",
      "for\n",
      "example\n",
      ")\n",
      "\n",
      "\n",
      "\n",
      "Pauly\n"
     ]
    }
   ],
   "source": [
    "for i, _ in enumerate(txt):\n",
    "    if i in propn_idx:\n",
    "        print(random.choice(people_names))\n",
    "    else:\n",
    "        print(_)"
   ]
  },
  {
   "cell_type": "code",
   "execution_count": null,
   "metadata": {
    "collapsed": true
   },
   "outputs": [],
   "source": []
  }
 ],
 "metadata": {
  "kernelspec": {
   "display_name": "Python 3",
   "language": "python",
   "name": "python3"
  },
  "language_info": {
   "codemirror_mode": {
    "name": "ipython",
    "version": 2
   },
   "file_extension": ".py",
   "mimetype": "text/x-python",
   "name": "python",
   "nbconvert_exporter": "python",
   "pygments_lexer": "ipython2",
   "version": "2.7.13"
  }
 },
 "nbformat": 4,
 "nbformat_minor": 2
}
